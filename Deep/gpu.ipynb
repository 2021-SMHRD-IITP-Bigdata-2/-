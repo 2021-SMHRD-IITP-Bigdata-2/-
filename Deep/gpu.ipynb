{
 "cells": [
  {
   "cell_type": "code",
   "execution_count": 1,
   "metadata": {},
   "outputs": [
    {
     "name": "stdout",
     "output_type": "stream",
     "text": [
      "2.6.0\n"
     ]
    }
   ],
   "source": [
    "import tensorflow as tf\n",
    "print(tf.__version__)"
   ]
  },
  {
   "cell_type": "code",
   "execution_count": 2,
   "metadata": {},
   "outputs": [
    {
     "name": "stdout",
     "output_type": "stream",
     "text": [
      "Collecting tensorflow-gpu\n",
      "  Downloading tensorflow_gpu-2.6.0-cp37-cp37m-win_amd64.whl (423.2 MB)\n",
      "Requirement already satisfied: protobuf>=3.9.2 in c:\\users\\smhrd\\appdata\\local\\programs\\python\\python37\\lib\\site-packages (from tensorflow-gpu) (3.19.0)\n",
      "Requirement already satisfied: astunparse~=1.6.3 in c:\\users\\smhrd\\appdata\\local\\programs\\python\\python37\\lib\\site-packages (from tensorflow-gpu) (1.6.3)\n",
      "Requirement already satisfied: typing-extensions~=3.7.4 in c:\\users\\smhrd\\appdata\\local\\programs\\python\\python37\\lib\\site-packages (from tensorflow-gpu) (3.7.4.3)\n",
      "Requirement already satisfied: tensorboard~=2.6 in c:\\users\\smhrd\\appdata\\local\\programs\\python\\python37\\lib\\site-packages (from tensorflow-gpu) (2.7.0)\n",
      "Requirement already satisfied: grpcio<2.0,>=1.37.0 in c:\\users\\smhrd\\appdata\\local\\programs\\python\\python37\\lib\\site-packages (from tensorflow-gpu) (1.41.1)\n",
      "Requirement already satisfied: h5py~=3.1.0 in c:\\users\\smhrd\\appdata\\local\\programs\\python\\python37\\lib\\site-packages (from tensorflow-gpu) (3.1.0)\n",
      "Requirement already satisfied: opt-einsum~=3.3.0 in c:\\users\\smhrd\\appdata\\local\\programs\\python\\python37\\lib\\site-packages (from tensorflow-gpu) (3.3.0)\n",
      "Requirement already satisfied: gast==0.4.0 in c:\\users\\smhrd\\appdata\\local\\programs\\python\\python37\\lib\\site-packages (from tensorflow-gpu) (0.4.0)\n",
      "Requirement already satisfied: termcolor~=1.1.0 in c:\\users\\smhrd\\appdata\\local\\programs\\python\\python37\\lib\\site-packages (from tensorflow-gpu) (1.1.0)\n",
      "Requirement already satisfied: numpy~=1.19.2 in c:\\users\\smhrd\\appdata\\local\\programs\\python\\python37\\lib\\site-packages (from tensorflow-gpu) (1.19.5)\n",
      "Requirement already satisfied: keras-preprocessing~=1.1.2 in c:\\users\\smhrd\\appdata\\local\\programs\\python\\python37\\lib\\site-packages (from tensorflow-gpu) (1.1.2)\n",
      "Requirement already satisfied: flatbuffers~=1.12.0 in c:\\users\\smhrd\\appdata\\local\\programs\\python\\python37\\lib\\site-packages (from tensorflow-gpu) (1.12)\n",
      "Requirement already satisfied: clang~=5.0 in c:\\users\\smhrd\\appdata\\local\\programs\\python\\python37\\lib\\site-packages (from tensorflow-gpu) (5.0)\n",
      "Requirement already satisfied: tensorflow-estimator~=2.6 in c:\\users\\smhrd\\appdata\\local\\programs\\python\\python37\\lib\\site-packages (from tensorflow-gpu) (2.6.0)\n",
      "Requirement already satisfied: six~=1.15.0 in c:\\users\\smhrd\\appdata\\local\\programs\\python\\python37\\lib\\site-packages (from tensorflow-gpu) (1.15.0)\n",
      "Requirement already satisfied: wheel~=0.35 in c:\\users\\smhrd\\appdata\\local\\programs\\python\\python37\\lib\\site-packages (from tensorflow-gpu) (0.37.0)\n",
      "Requirement already satisfied: google-pasta~=0.2 in c:\\users\\smhrd\\appdata\\local\\programs\\python\\python37\\lib\\site-packages (from tensorflow-gpu) (0.2.0)\n",
      "Requirement already satisfied: absl-py~=0.10 in c:\\users\\smhrd\\appdata\\local\\programs\\python\\python37\\lib\\site-packages (from tensorflow-gpu) (0.15.0)\n",
      "Requirement already satisfied: wrapt~=1.12.1 in c:\\users\\smhrd\\appdata\\local\\programs\\python\\python37\\lib\\site-packages (from tensorflow-gpu) (1.12.1)\n",
      "Requirement already satisfied: keras~=2.6 in c:\\users\\smhrd\\appdata\\local\\programs\\python\\python37\\lib\\site-packages (from tensorflow-gpu) (2.6.0)\n",
      "Requirement already satisfied: cached-property in c:\\users\\smhrd\\appdata\\local\\programs\\python\\python37\\lib\\site-packages (from h5py~=3.1.0->tensorflow-gpu) (1.5.2)\n",
      "Requirement already satisfied: markdown>=2.6.8 in c:\\users\\smhrd\\appdata\\local\\programs\\python\\python37\\lib\\site-packages (from tensorboard~=2.6->tensorflow-gpu) (3.3.4)\n",
      "Requirement already satisfied: google-auth-oauthlib<0.5,>=0.4.1 in c:\\users\\smhrd\\appdata\\local\\programs\\python\\python37\\lib\\site-packages (from tensorboard~=2.6->tensorflow-gpu) (0.4.6)\n",
      "Requirement already satisfied: werkzeug>=0.11.15 in c:\\users\\smhrd\\appdata\\local\\programs\\python\\python37\\lib\\site-packages (from tensorboard~=2.6->tensorflow-gpu) (2.0.2)\n",
      "Requirement already satisfied: requests<3,>=2.21.0 in c:\\users\\smhrd\\appdata\\local\\programs\\python\\python37\\lib\\site-packages (from tensorboard~=2.6->tensorflow-gpu) (2.26.0)\n",
      "Requirement already satisfied: setuptools>=41.0.0 in c:\\users\\smhrd\\appdata\\local\\programs\\python\\python37\\lib\\site-packages (from tensorboard~=2.6->tensorflow-gpu) (47.1.0)\n",
      "Requirement already satisfied: tensorboard-data-server<0.7.0,>=0.6.0 in c:\\users\\smhrd\\appdata\\local\\programs\\python\\python37\\lib\\site-packages (from tensorboard~=2.6->tensorflow-gpu) (0.6.1)\n",
      "Requirement already satisfied: tensorboard-plugin-wit>=1.6.0 in c:\\users\\smhrd\\appdata\\local\\programs\\python\\python37\\lib\\site-packages (from tensorboard~=2.6->tensorflow-gpu) (1.8.0)\n",
      "Requirement already satisfied: google-auth<3,>=1.6.3 in c:\\users\\smhrd\\appdata\\local\\programs\\python\\python37\\lib\\site-packages (from tensorboard~=2.6->tensorflow-gpu) (2.3.2)\n",
      "Requirement already satisfied: cachetools<5.0,>=2.0.0 in c:\\users\\smhrd\\appdata\\local\\programs\\python\\python37\\lib\\site-packages (from google-auth<3,>=1.6.3->tensorboard~=2.6->tensorflow-gpu) (4.2.4)\n",
      "Requirement already satisfied: rsa<5,>=3.1.4 in c:\\users\\smhrd\\appdata\\local\\programs\\python\\python37\\lib\\site-packages (from google-auth<3,>=1.6.3->tensorboard~=2.6->tensorflow-gpu) (4.7.2)\n",
      "Requirement already satisfied: pyasn1-modules>=0.2.1 in c:\\users\\smhrd\\appdata\\local\\programs\\python\\python37\\lib\\site-packages (from google-auth<3,>=1.6.3->tensorboard~=2.6->tensorflow-gpu) (0.2.8)\n",
      "Requirement already satisfied: requests-oauthlib>=0.7.0 in c:\\users\\smhrd\\appdata\\local\\programs\\python\\python37\\lib\\site-packages (from google-auth-oauthlib<0.5,>=0.4.1->tensorboard~=2.6->tensorflow-gpu) (1.3.0)\n",
      "Requirement already satisfied: importlib-metadata in c:\\users\\smhrd\\appdata\\local\\programs\\python\\python37\\lib\\site-packages (from markdown>=2.6.8->tensorboard~=2.6->tensorflow-gpu) (4.8.1)\n",
      "Requirement already satisfied: certifi>=2017.4.17 in c:\\users\\smhrd\\appdata\\local\\programs\\python\\python37\\lib\\site-packages (from requests<3,>=2.21.0->tensorboard~=2.6->tensorflow-gpu) (2021.10.8)\n",
      "Requirement already satisfied: charset-normalizer~=2.0.0 in c:\\users\\smhrd\\appdata\\local\\programs\\python\\python37\\lib\\site-packages (from requests<3,>=2.21.0->tensorboard~=2.6->tensorflow-gpu) (2.0.7)\n",
      "Requirement already satisfied: urllib3<1.27,>=1.21.1 in c:\\users\\smhrd\\appdata\\local\\programs\\python\\python37\\lib\\site-packages (from requests<3,>=2.21.0->tensorboard~=2.6->tensorflow-gpu) (1.26.7)\n",
      "Requirement already satisfied: idna<4,>=2.5 in c:\\users\\smhrd\\appdata\\local\\programs\\python\\python37\\lib\\site-packages (from requests<3,>=2.21.0->tensorboard~=2.6->tensorflow-gpu) (3.3)\n",
      "Requirement already satisfied: pyasn1<0.5.0,>=0.4.6 in c:\\users\\smhrd\\appdata\\local\\programs\\python\\python37\\lib\\site-packages (from pyasn1-modules>=0.2.1->google-auth<3,>=1.6.3->tensorboard~=2.6->tensorflow-gpu) (0.4.8)\n",
      "Requirement already satisfied: oauthlib>=3.0.0 in c:\\users\\smhrd\\appdata\\local\\programs\\python\\python37\\lib\\site-packages (from requests-oauthlib>=0.7.0->google-auth-oauthlib<0.5,>=0.4.1->tensorboard~=2.6->tensorflow-gpu) (3.1.1)\n",
      "Requirement already satisfied: zipp>=0.5 in c:\\users\\smhrd\\appdata\\local\\programs\\python\\python37\\lib\\site-packages (from importlib-metadata->markdown>=2.6.8->tensorboard~=2.6->tensorflow-gpu) (3.6.0)\n",
      "Installing collected packages: tensorflow-gpu\n",
      "Note: you may need to restart the kernel to use updated packages.\n"
     ]
    },
    {
     "name": "stderr",
     "output_type": "stream",
     "text": [
      "ERROR: Could not install packages due to an OSError: [WinError 5] 액세스가 거부되었습니다: 'C:\\\\Users\\\\SMHRD\\\\AppData\\\\Local\\\\Programs\\\\Python\\\\Python37\\\\Lib\\\\site-packages\\\\tensorflow\\\\lite\\\\experimental\\\\microfrontend\\\\python\\\\ops\\\\_audio_microfrontend_op.so'\n",
      "Consider using the `--user` option or check the permissions.\n",
      "\n"
     ]
    }
   ],
   "source": [
    "pip install tensorflow-gpu"
   ]
  },
  {
   "cell_type": "code",
   "execution_count": 10,
   "metadata": {},
   "outputs": [
    {
     "data": {
      "text/plain": [
       "'2.6.0'"
      ]
     },
     "execution_count": 10,
     "metadata": {},
     "output_type": "execute_result"
    }
   ],
   "source": [
    "import tensorflow as tf\n",
    "tf.__version__"
   ]
  },
  {
   "cell_type": "code",
   "execution_count": 11,
   "metadata": {},
   "outputs": [
    {
     "data": {
      "text/plain": [
       "[name: \"/device:CPU:0\"\n",
       " device_type: \"CPU\"\n",
       " memory_limit: 268435456\n",
       " locality {\n",
       " }\n",
       " incarnation: 2942420819246271749]"
      ]
     },
     "execution_count": 11,
     "metadata": {},
     "output_type": "execute_result"
    }
   ],
   "source": [
    "from tensorflow.python.client import device_lib\n",
    "device_lib.list_local_devices()\n"
   ]
  },
  {
   "cell_type": "code",
   "execution_count": 12,
   "metadata": {},
   "outputs": [
    {
     "name": "stdout",
     "output_type": "stream",
     "text": [
      "Collecting tensorflow-gpu\n",
      "  Using cached tensorflow_gpu-2.6.0-cp37-cp37m-win_amd64.whl (423.2 MB)\n",
      "Requirement already satisfied: clang~=5.0 in c:\\users\\smhrd\\appdata\\local\\programs\\python\\python37\\lib\\site-packages (from tensorflow-gpu) (5.0)\n",
      "Requirement already satisfied: astunparse~=1.6.3 in c:\\users\\smhrd\\appdata\\local\\programs\\python\\python37\\lib\\site-packages (from tensorflow-gpu) (1.6.3)\n",
      "Requirement already satisfied: keras-preprocessing~=1.1.2 in c:\\users\\smhrd\\appdata\\local\\programs\\python\\python37\\lib\\site-packages (from tensorflow-gpu) (1.1.2)\n",
      "Requirement already satisfied: flatbuffers~=1.12.0 in c:\\users\\smhrd\\appdata\\local\\programs\\python\\python37\\lib\\site-packages (from tensorflow-gpu) (1.12)\n",
      "Requirement already satisfied: wrapt~=1.12.1 in c:\\users\\smhrd\\appdata\\local\\programs\\python\\python37\\lib\\site-packages (from tensorflow-gpu) (1.12.1)\n",
      "Requirement already satisfied: gast==0.4.0 in c:\\users\\smhrd\\appdata\\local\\programs\\python\\python37\\lib\\site-packages (from tensorflow-gpu) (0.4.0)\n",
      "Requirement already satisfied: typing-extensions~=3.7.4 in c:\\users\\smhrd\\appdata\\local\\programs\\python\\python37\\lib\\site-packages (from tensorflow-gpu) (3.7.4.3)\n",
      "Requirement already satisfied: numpy~=1.19.2 in c:\\users\\smhrd\\appdata\\local\\programs\\python\\python37\\lib\\site-packages (from tensorflow-gpu) (1.19.5)\n",
      "Requirement already satisfied: protobuf>=3.9.2 in c:\\users\\smhrd\\appdata\\local\\programs\\python\\python37\\lib\\site-packages (from tensorflow-gpu) (3.19.0)\n",
      "Requirement already satisfied: keras~=2.6 in c:\\users\\smhrd\\appdata\\local\\programs\\python\\python37\\lib\\site-packages (from tensorflow-gpu) (2.6.0)\n",
      "Requirement already satisfied: tensorflow-estimator~=2.6 in c:\\users\\smhrd\\appdata\\local\\programs\\python\\python37\\lib\\site-packages (from tensorflow-gpu) (2.6.0)\n",
      "Requirement already satisfied: wheel~=0.35 in c:\\users\\smhrd\\appdata\\local\\programs\\python\\python37\\lib\\site-packages (from tensorflow-gpu) (0.37.0)\n",
      "Requirement already satisfied: six~=1.15.0 in c:\\users\\smhrd\\appdata\\local\\programs\\python\\python37\\lib\\site-packages (from tensorflow-gpu) (1.15.0)\n",
      "Requirement already satisfied: google-pasta~=0.2 in c:\\users\\smhrd\\appdata\\local\\programs\\python\\python37\\lib\\site-packages (from tensorflow-gpu) (0.2.0)\n",
      "Requirement already satisfied: tensorboard~=2.6 in c:\\users\\smhrd\\appdata\\local\\programs\\python\\python37\\lib\\site-packages (from tensorflow-gpu) (2.7.0)\n",
      "Requirement already satisfied: termcolor~=1.1.0 in c:\\users\\smhrd\\appdata\\local\\programs\\python\\python37\\lib\\site-packages (from tensorflow-gpu) (1.1.0)\n",
      "Requirement already satisfied: opt-einsum~=3.3.0 in c:\\users\\smhrd\\appdata\\local\\programs\\python\\python37\\lib\\site-packages (from tensorflow-gpu) (3.3.0)\n",
      "Requirement already satisfied: absl-py~=0.10 in c:\\users\\smhrd\\appdata\\local\\programs\\python\\python37\\lib\\site-packages (from tensorflow-gpu) (0.15.0)\n",
      "Requirement already satisfied: grpcio<2.0,>=1.37.0 in c:\\users\\smhrd\\appdata\\local\\programs\\python\\python37\\lib\\site-packages (from tensorflow-gpu) (1.41.1)\n",
      "Requirement already satisfied: h5py~=3.1.0 in c:\\users\\smhrd\\appdata\\local\\programs\\python\\python37\\lib\\site-packages (from tensorflow-gpu) (3.1.0)\n",
      "Requirement already satisfied: cached-property in c:\\users\\smhrd\\appdata\\local\\programs\\python\\python37\\lib\\site-packages (from h5py~=3.1.0->tensorflow-gpu) (1.5.2)\n",
      "Requirement already satisfied: google-auth<3,>=1.6.3 in c:\\users\\smhrd\\appdata\\local\\programs\\python\\python37\\lib\\site-packages (from tensorboard~=2.6->tensorflow-gpu) (2.3.2)\n",
      "Requirement already satisfied: tensorboard-plugin-wit>=1.6.0 in c:\\users\\smhrd\\appdata\\local\\programs\\python\\python37\\lib\\site-packages (from tensorboard~=2.6->tensorflow-gpu) (1.8.0)\n",
      "Requirement already satisfied: werkzeug>=0.11.15 in c:\\users\\smhrd\\appdata\\local\\programs\\python\\python37\\lib\\site-packages (from tensorboard~=2.6->tensorflow-gpu) (2.0.2)\n",
      "Requirement already satisfied: markdown>=2.6.8 in c:\\users\\smhrd\\appdata\\local\\programs\\python\\python37\\lib\\site-packages (from tensorboard~=2.6->tensorflow-gpu) (3.3.4)\n",
      "Requirement already satisfied: requests<3,>=2.21.0 in c:\\users\\smhrd\\appdata\\local\\programs\\python\\python37\\lib\\site-packages (from tensorboard~=2.6->tensorflow-gpu) (2.26.0)\n",
      "Requirement already satisfied: setuptools>=41.0.0 in c:\\users\\smhrd\\appdata\\local\\programs\\python\\python37\\lib\\site-packages (from tensorboard~=2.6->tensorflow-gpu) (47.1.0)\n",
      "Requirement already satisfied: google-auth-oauthlib<0.5,>=0.4.1 in c:\\users\\smhrd\\appdata\\local\\programs\\python\\python37\\lib\\site-packages (from tensorboard~=2.6->tensorflow-gpu) (0.4.6)\n",
      "Requirement already satisfied: tensorboard-data-server<0.7.0,>=0.6.0 in c:\\users\\smhrd\\appdata\\local\\programs\\python\\python37\\lib\\site-packages (from tensorboard~=2.6->tensorflow-gpu) (0.6.1)\n",
      "Requirement already satisfied: cachetools<5.0,>=2.0.0 in c:\\users\\smhrd\\appdata\\local\\programs\\python\\python37\\lib\\site-packages (from google-auth<3,>=1.6.3->tensorboard~=2.6->tensorflow-gpu) (4.2.4)\n",
      "Requirement already satisfied: pyasn1-modules>=0.2.1 in c:\\users\\smhrd\\appdata\\local\\programs\\python\\python37\\lib\\site-packages (from google-auth<3,>=1.6.3->tensorboard~=2.6->tensorflow-gpu) (0.2.8)\n",
      "Requirement already satisfied: rsa<5,>=3.1.4 in c:\\users\\smhrd\\appdata\\local\\programs\\python\\python37\\lib\\site-packages (from google-auth<3,>=1.6.3->tensorboard~=2.6->tensorflow-gpu) (4.7.2)\n",
      "Requirement already satisfied: requests-oauthlib>=0.7.0 in c:\\users\\smhrd\\appdata\\local\\programs\\python\\python37\\lib\\site-packages (from google-auth-oauthlib<0.5,>=0.4.1->tensorboard~=2.6->tensorflow-gpu) (1.3.0)\n",
      "Requirement already satisfied: importlib-metadata in c:\\users\\smhrd\\appdata\\local\\programs\\python\\python37\\lib\\site-packages (from markdown>=2.6.8->tensorboard~=2.6->tensorflow-gpu) (4.8.1)\n",
      "Requirement already satisfied: urllib3<1.27,>=1.21.1 in c:\\users\\smhrd\\appdata\\local\\programs\\python\\python37\\lib\\site-packages (from requests<3,>=2.21.0->tensorboard~=2.6->tensorflow-gpu) (1.26.7)\n",
      "Requirement already satisfied: charset-normalizer~=2.0.0 in c:\\users\\smhrd\\appdata\\local\\programs\\python\\python37\\lib\\site-packages (from requests<3,>=2.21.0->tensorboard~=2.6->tensorflow-gpu) (2.0.7)\n",
      "Requirement already satisfied: certifi>=2017.4.17 in c:\\users\\smhrd\\appdata\\local\\programs\\python\\python37\\lib\\site-packages (from requests<3,>=2.21.0->tensorboard~=2.6->tensorflow-gpu) (2021.10.8)\n",
      "Requirement already satisfied: idna<4,>=2.5 in c:\\users\\smhrd\\appdata\\local\\programs\\python\\python37\\lib\\site-packages (from requests<3,>=2.21.0->tensorboard~=2.6->tensorflow-gpu) (3.3)\n",
      "Requirement already satisfied: pyasn1<0.5.0,>=0.4.6 in c:\\users\\smhrd\\appdata\\local\\programs\\python\\python37\\lib\\site-packages (from pyasn1-modules>=0.2.1->google-auth<3,>=1.6.3->tensorboard~=2.6->tensorflow-gpu) (0.4.8)\n",
      "Requirement already satisfied: oauthlib>=3.0.0 in c:\\users\\smhrd\\appdata\\local\\programs\\python\\python37\\lib\\site-packages (from requests-oauthlib>=0.7.0->google-auth-oauthlib<0.5,>=0.4.1->tensorboard~=2.6->tensorflow-gpu) (3.1.1)\n",
      "Requirement already satisfied: zipp>=0.5 in c:\\users\\smhrd\\appdata\\local\\programs\\python\\python37\\lib\\site-packages (from importlib-metadata->markdown>=2.6.8->tensorboard~=2.6->tensorflow-gpu) (3.6.0)\n",
      "Installing collected packages: tensorflow-gpu\n",
      "Note: you may need to restart the kernel to use updated packages.\n"
     ]
    },
    {
     "name": "stderr",
     "output_type": "stream",
     "text": [
      "ERROR: Could not install packages due to an OSError: [WinError 5] 액세스가 거부되었습니다: 'C:\\\\Users\\\\SMHRD\\\\AppData\\\\Local\\\\Programs\\\\Python\\\\Python37\\\\Lib\\\\site-packages\\\\tensorflow\\\\lite\\\\experimental\\\\microfrontend\\\\python\\\\ops\\\\_audio_microfrontend_op.so'\n",
      "Consider using the `--user` option or check the permissions.\n",
      "\n"
     ]
    }
   ],
   "source": [
    "pip install tensorflow-gpu"
   ]
  },
  {
   "cell_type": "code",
   "execution_count": null,
   "metadata": {},
   "outputs": [],
   "source": []
  }
 ],
 "metadata": {
  "interpreter": {
   "hash": "b55d97c5ceb30a938e3a6a7089238ad1b46f9b249c3392093011d69d2440d11b"
  },
  "kernelspec": {
   "display_name": "Python 3.7.9 64-bit",
   "name": "python3"
  },
  "language_info": {
   "codemirror_mode": {
    "name": "ipython",
    "version": 3
   },
   "file_extension": ".py",
   "mimetype": "text/x-python",
   "name": "python",
   "nbconvert_exporter": "python",
   "pygments_lexer": "ipython3",
   "version": "3.7.9"
  },
  "orig_nbformat": 4
 },
 "nbformat": 4,
 "nbformat_minor": 2
}
