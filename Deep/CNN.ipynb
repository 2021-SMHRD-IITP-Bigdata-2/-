{
 "cells": [
  {
   "cell_type": "code",
   "execution_count": 25,
   "metadata": {},
   "outputs": [],
   "source": [
    "# 15가지 음식 데이터 \n",
    "# 데이터 구성 -> train 학습, val 학습확인, test 결과\n",
    "# train : 2000\n",
    "# val : 500\n",
    "# test : 11"
   ]
  },
  {
   "cell_type": "code",
   "execution_count": 26,
   "metadata": {},
   "outputs": [],
   "source": [
    "import os"
   ]
  },
  {
   "cell_type": "code",
   "execution_count": 27,
   "metadata": {},
   "outputs": [
    {
     "name": "stdout",
     "output_type": "stream",
     "text": [
      "15\n",
      "15\n",
      "15\n"
     ]
    }
   ],
   "source": [
    "# Folder\n",
    "train_dir = './food/'\n",
    "val_dir = './food/'\n",
    "test_dir = './food/'\n",
    "print(len(os.listdir(train_dir)))\n",
    "print(len(os.listdir(val_dir)))\n",
    "print(len(os.listdir(test_dir)))"
   ]
  },
  {
   "cell_type": "code",
   "execution_count": 28,
   "metadata": {},
   "outputs": [],
   "source": [
    "train_boli_dir = train_dir+\"Boli_bibimbab/train\"\n",
    "train_bul_dir = train_dir+\"Bulgogi/train\"\n",
    "train_kkomak_dir = train_dir+\"Bulgoyokkomak/train\"\n",
    "train_ganjang_dir = train_dir+\"Ganjang_gejang/train\"\n",
    "train_gob_dir = train_dir+\"Gobchang/train\"\n",
    "train_gom_dir = train_dir+\"Gomtang/train\"\n",
    "train_gulbi_dir = train_dir+\"Gulbi/train\"\n",
    "train_hanu_dir = train_dir+\"Hanuyughoe/train\"\n",
    "train_jang_dir = train_dir+\"Jangeogui/train\"\n",
    "train_kal_dir = train_dir+\"Kalguksu/train\"\n",
    "train_o_dir = train_dir+\"Olitang/train\"\n",
    "train_sam_dir = train_dir+\"Samgyeobsal/train\"\n",
    "train_sang_dir = train_dir+\"Sangchutwigim/train\"\n",
    "train_tteo_dir = train_dir+\"Tteoggalbi/train\"\n",
    "train_bokki_dir = train_dir+\"Tteokbokki/train\"\n",
    "\n",
    "test_boli_dir = test_dir+\"Boli_bibimbab/test\"\n",
    "test_bul_dir = test_dir+\"Bulgogi/test\"\n",
    "test_kkomak_dir = test_dir+\"Bulgoyokkomak/test\"\n",
    "test_ganjang_dir = test_dir+\"Ganjang_gejang/test\"\n",
    "test_gob_dir = test_dir+\"Gobchang/test\"\n",
    "test_gom_dir = test_dir+\"Gomtang/test\"\n",
    "test_gulbi_dir = test_dir+\"Gulbi/test\"\n",
    "test_hanu_dir = test_dir+\"Hanuyughoe/test\"\n",
    "test_jang_dir = test_dir+\"Jangeogui/test\"\n",
    "test_kal_dir = test_dir+\"Kalguksu/test\"\n",
    "test_o_dir = test_dir+\"Olitang/test\"\n",
    "test_sam_dir = test_dir+\"Samgyeobsal/test\"\n",
    "test_sang_dir = test_dir+\"Sangchutwigim/test\"\n",
    "test_tteo_dir = test_dir+\"Tteoggalbi/test\"\n",
    "test_bokki_dir = test_dir+\"Tteokbokki/test\"\n",
    "\n",
    "val_boli_dir = val_dir+\"Boli_bibimbab/val\"\n",
    "val_bul_dir = val_dir+\"Bulgogi/val\"\n",
    "val_kkomak_dir = val_dir+\"Bulgoyokkomak/val\"\n",
    "val_ganjang_dir = val_dir+\"Ganjang_gejang/val\"\n",
    "val_gob_dir = val_dir+\"Gobchang/val\"\n",
    "val_gom_dir = val_dir+\"Gomtang/val\"\n",
    "val_gulbi_dir = val_dir+\"Gulbi/val\"\n",
    "val_hanu_dir = val_dir+\"Hanuyughoe/val\"\n",
    "val_jang_dir = val_dir+\"Jangeogui/val\"\n",
    "val_kal_dir = val_dir+\"Kalguksu/val\"\n",
    "val_o_dir = val_dir+\"Olitang/val\"\n",
    "val_sam_dir = val_dir+\"Samgyeobsal/val\"\n",
    "val_sang_dir = val_dir+\"Sangchutwigim/val\"\n",
    "val_tteo_dir = val_dir+\"Tteoggalbi/val\"\n",
    "val_bokki_dir = val_dir+\"Tteokbokki/val\"\n"
   ]
  },
  {
   "cell_type": "code",
   "execution_count": 29,
   "metadata": {},
   "outputs": [
    {
     "name": "stdout",
     "output_type": "stream",
     "text": [
      "2000\n",
      "2000\n",
      "2000\n",
      "2000\n",
      "2000\n",
      "2000\n",
      "2000\n",
      "2000\n",
      "2000\n",
      "2000\n",
      "2000\n",
      "2000\n",
      "2000\n",
      "2000\n",
      "2000\n",
      "500\n",
      "500\n",
      "500\n",
      "500\n",
      "500\n",
      "500\n",
      "500\n",
      "500\n",
      "500\n",
      "500\n",
      "500\n",
      "500\n",
      "500\n",
      "500\n",
      "500\n",
      "11\n",
      "11\n",
      "11\n",
      "11\n",
      "11\n",
      "11\n",
      "11\n",
      "11\n",
      "11\n",
      "11\n",
      "11\n",
      "11\n",
      "11\n",
      "11\n",
      "11\n"
     ]
    }
   ],
   "source": [
    "print(len(os.listdir(train_boli_dir)))\n",
    "print(len(os.listdir(train_bul_dir)))\n",
    "print(len(os.listdir(train_kkomak_dir)))\n",
    "print(len(os.listdir(train_ganjang_dir)))\n",
    "print(len(os.listdir(train_gob_dir)))\n",
    "print(len(os.listdir(train_gom_dir)))\n",
    "print(len(os.listdir(train_gulbi_dir)))\n",
    "print(len(os.listdir(train_hanu_dir)))\n",
    "print(len(os.listdir(train_jang_dir)))\n",
    "print(len(os.listdir(train_kal_dir)))\n",
    "print(len(os.listdir(train_o_dir)))\n",
    "print(len(os.listdir(train_sam_dir)))\n",
    "print(len(os.listdir(train_sang_dir)))\n",
    "print(len(os.listdir(train_tteo_dir)))\n",
    "print(len(os.listdir(train_bokki_dir)))\n",
    "\n",
    "print(len(os.listdir(val_boli_dir)))\n",
    "print(len(os.listdir(val_bul_dir)))\n",
    "print(len(os.listdir(val_kkomak_dir)))\n",
    "print(len(os.listdir(val_ganjang_dir)))\n",
    "print(len(os.listdir(val_gob_dir)))\n",
    "print(len(os.listdir(val_gom_dir)))\n",
    "print(len(os.listdir(val_gulbi_dir)))\n",
    "print(len(os.listdir(val_hanu_dir)))\n",
    "print(len(os.listdir(val_jang_dir)))\n",
    "print(len(os.listdir(val_kal_dir)))\n",
    "print(len(os.listdir(val_o_dir)))\n",
    "print(len(os.listdir(val_sam_dir)))\n",
    "print(len(os.listdir(val_sang_dir)))\n",
    "print(len(os.listdir(val_tteo_dir)))\n",
    "print(len(os.listdir(val_bokki_dir)))\n",
    "\n",
    "print(len(os.listdir(test_boli_dir)))\n",
    "print(len(os.listdir(test_bul_dir)))\n",
    "print(len(os.listdir(test_kkomak_dir)))\n",
    "print(len(os.listdir(test_ganjang_dir)))\n",
    "print(len(os.listdir(test_gob_dir)))\n",
    "print(len(os.listdir(test_gom_dir)))\n",
    "print(len(os.listdir(test_gulbi_dir)))\n",
    "print(len(os.listdir(test_hanu_dir)))\n",
    "print(len(os.listdir(test_jang_dir)))\n",
    "print(len(os.listdir(test_kal_dir)))\n",
    "print(len(os.listdir(test_o_dir)))\n",
    "print(len(os.listdir(test_sam_dir)))\n",
    "print(len(os.listdir(test_sang_dir)))\n",
    "print(len(os.listdir(test_tteo_dir)))\n",
    "print(len(os.listdir(test_bokki_dir)))"
   ]
  },
  {
   "cell_type": "code",
   "execution_count": 30,
   "metadata": {},
   "outputs": [
    {
     "name": "stdout",
     "output_type": "stream",
     "text": [
      "Found 37665 images belonging to 15 classes.\n",
      "Found 37665 images belonging to 15 classes.\n",
      "Found 37665 images belonging to 15 classes.\n"
     ]
    }
   ],
   "source": [
    "# 이미지 데이터를 하나의 변수에 집어넣기\n",
    "# 픽셀값 255 > 1\n",
    "# 이미지 크기 (150,150) 으로 변환\n",
    "# 라벨링\n",
    "from tensorflow.keras.preprocessing.image import ImageDataGenerator\n",
    "\n",
    "# 픽셀값 0 ~ 1사이 변환\n",
    "train_gen = ImageDataGenerator(rescale=1./255)\n",
    "val_gen = ImageDataGenerator(rescale=1./255)\n",
    "test_gen = ImageDataGenerator(rescale=1./255)\n",
    "\n",
    "# flow_from_directory() : 디렉토리로부터 이미지를 가져오는 함수\n",
    "# flow_from_directory(디렉토리 이름, 변환할 이미지 크기, 한번에 변환할 이미지 수, 라벨링)\n",
    "\n",
    "# binary = 이진분류\n",
    "# 폴더를 알파벳 순으로 라벨링, 0의 값부터 라벨링\n",
    "# cats 폴더 안에 있는 이미지들은 0\n",
    "# dogs 폴더 안에 있는 이미지들은 1\n",
    "\n",
    "# categorical = 다중분류\n",
    "train_generator = train_gen.flow_from_directory(train_dir,\n",
    "                                                target_size = (150,150),\n",
    "                                                batch_size = 100,\n",
    "                                                class_mode = 'categorical')\n",
    "\n",
    "val_generator = val_gen.flow_from_directory(val_dir,\n",
    "                                                target_size = (150,150),\n",
    "                                                batch_size = 100,\n",
    "                                                class_mode = 'categorical')\n",
    "\n",
    "test_generator = test_gen.flow_from_directory(test_dir,\n",
    "                                                target_size = (150,150),\n",
    "                                                batch_size = 100,\n",
    "                                                class_mode = 'categorical')"
   ]
  },
  {
   "cell_type": "code",
   "execution_count": 31,
   "metadata": {},
   "outputs": [
    {
     "name": "stdout",
     "output_type": "stream",
     "text": [
      "{'Boli_bibimbab': 0, 'Bulgogi': 1, 'Bulgoyokkomak': 2, 'Ganjang_gejang': 3, 'Gobchang': 4, 'Gomtang': 5, 'Gulbi': 6, 'Hanuyughoe': 7, 'Jangeogui': 8, 'Kalguksu': 9, 'Olitang': 10, 'Samgyeobsal': 11, 'Sangchutwigim': 12, 'Tteoggalbi': 13, 'Tteokbokki': 14}\n",
      "{'Boli_bibimbab': 0, 'Bulgogi': 1, 'Bulgoyokkomak': 2, 'Ganjang_gejang': 3, 'Gobchang': 4, 'Gomtang': 5, 'Gulbi': 6, 'Hanuyughoe': 7, 'Jangeogui': 8, 'Kalguksu': 9, 'Olitang': 10, 'Samgyeobsal': 11, 'Sangchutwigim': 12, 'Tteoggalbi': 13, 'Tteokbokki': 14}\n",
      "{'Boli_bibimbab': 0, 'Bulgogi': 1, 'Bulgoyokkomak': 2, 'Ganjang_gejang': 3, 'Gobchang': 4, 'Gomtang': 5, 'Gulbi': 6, 'Hanuyughoe': 7, 'Jangeogui': 8, 'Kalguksu': 9, 'Olitang': 10, 'Samgyeobsal': 11, 'Sangchutwigim': 12, 'Tteoggalbi': 13, 'Tteokbokki': 14}\n"
     ]
    }
   ],
   "source": [
    "# 라벨링 결과 확인\n",
    "print(train_generator.class_indices)\n",
    "print(val_generator.class_indices)\n",
    "print(test_generator.class_indices)"
   ]
  },
  {
   "cell_type": "code",
   "execution_count": 32,
   "metadata": {},
   "outputs": [
    {
     "name": "stdout",
     "output_type": "stream",
     "text": [
      "Model: \"sequential_2\"\n",
      "_________________________________________________________________\n",
      "Layer (type)                 Output Shape              Param #   \n",
      "=================================================================\n",
      "conv2d_2 (Conv2D)            (None, 150, 150, 32)      896       \n",
      "_________________________________________________________________\n",
      "max_pooling2d_2 (MaxPooling2 (None, 75, 75, 32)        0         \n",
      "_________________________________________________________________\n",
      "flatten_2 (Flatten)          (None, 180000)            0         \n",
      "_________________________________________________________________\n",
      "dense_4 (Dense)              (None, 512)               92160512  \n",
      "_________________________________________________________________\n",
      "dropout_2 (Dropout)          (None, 512)               0         \n",
      "_________________________________________________________________\n",
      "dense_5 (Dense)              (None, 15)                7695      \n",
      "=================================================================\n",
      "Total params: 92,169,103\n",
      "Trainable params: 92,169,103\n",
      "Non-trainable params: 0\n",
      "_________________________________________________________________\n"
     ]
    }
   ],
   "source": [
    "# CNN 모델 설계\n",
    "\n",
    "from tensorflow.keras.models import Sequential\n",
    "from tensorflow.keras.layers import Dense, Conv2D, MaxPool2D, Flatten, Dropout\n",
    "\n",
    "model1 = Sequential()\n",
    "\n",
    "# 입력층\n",
    "# 특징 추출부\n",
    "model1.add(Conv2D(\n",
    "    filters = 32,\n",
    "    kernel_size = (3,3),\n",
    "    input_shape = (150,150, 3),\n",
    "    padding = 'same',\n",
    "    activation = 'relu'\n",
    "))\n",
    "\n",
    "model1.add(MaxPool2D(\n",
    "    pool_size = (2,2)\n",
    "))\n",
    "\n",
    "model1.add(Flatten()) # MLP이 학습하기 위해서 데이터를 1차원으로 만들어주는 역할\n",
    "\n",
    "############################# 특징 추출부 끝 ################\n",
    "############################# 분류부 시작 ###################\n",
    "# 이미 위에서 특징들을 추출했기 때문에 층을 깊게 쌓지 않아도 됨\n",
    "# MLP 사용\n",
    "model1.add(Dense(units = 512 , activation = 'relu'))\n",
    "# 과대적합 방지\n",
    "# 학습할때는 0.3만큼 drop해서 0.7만큼의 유닛만 사용해서 학습\n",
    "# 예측할때는 전부 사용해서 예측\n",
    "model1.add(Dropout(0.3))\n",
    "\n",
    "# 출력층\n",
    "model1.add(Dense(units = 15 , activation = 'softmax'))\n",
    "\n",
    "model1.summary()"
   ]
  },
  {
   "cell_type": "code",
   "execution_count": 33,
   "metadata": {},
   "outputs": [],
   "source": [
    "# 이진분류\n",
    "model1.compile(loss = 'categorical_crossentropy',\n",
    "                optimizer = 'adam',\n",
    "                metrics = ['accuracy'])"
   ]
  },
  {
   "cell_type": "code",
   "execution_count": 34,
   "metadata": {},
   "outputs": [
    {
     "name": "stdout",
     "output_type": "stream",
     "text": [
      "Epoch 1/20\n",
      "377/377 [==============================] - 63s 166ms/step - loss: 2.4614 - accuracy: 0.3828 - val_loss: 1.3156 - val_accuracy: 0.6060\n",
      "Epoch 2/20\n",
      "377/377 [==============================] - 62s 163ms/step - loss: 1.2811 - accuracy: 0.5804 - val_loss: 0.8160 - val_accuracy: 0.7753\n",
      "Epoch 3/20\n",
      "377/377 [==============================] - 62s 163ms/step - loss: 0.9153 - accuracy: 0.7024 - val_loss: 0.4746 - val_accuracy: 0.8922\n",
      "Epoch 4/20\n",
      "377/377 [==============================] - 61s 163ms/step - loss: 0.6116 - accuracy: 0.8046 - val_loss: 0.2714 - val_accuracy: 0.9335\n",
      "Epoch 5/20\n",
      "377/377 [==============================] - 62s 164ms/step - loss: 0.3924 - accuracy: 0.8749 - val_loss: 0.1308 - val_accuracy: 0.9816\n",
      "Epoch 6/20\n",
      "377/377 [==============================] - 62s 164ms/step - loss: 0.2597 - accuracy: 0.9203 - val_loss: 0.0670 - val_accuracy: 0.9905\n",
      "Epoch 7/20\n",
      "377/377 [==============================] - 61s 160ms/step - loss: 0.1946 - accuracy: 0.9403 - val_loss: 0.0392 - val_accuracy: 0.9971\n",
      "Epoch 8/20\n",
      "377/377 [==============================] - 62s 164ms/step - loss: 0.1568 - accuracy: 0.9538 - val_loss: 0.0343 - val_accuracy: 0.9952\n",
      "Epoch 9/20\n",
      "377/377 [==============================] - 62s 165ms/step - loss: 0.1262 - accuracy: 0.9618 - val_loss: 0.0232 - val_accuracy: 0.9975\n",
      "Epoch 10/20\n",
      "377/377 [==============================] - 61s 162ms/step - loss: 0.1024 - accuracy: 0.9691 - val_loss: 0.0182 - val_accuracy: 0.9976\n",
      "Epoch 11/20\n",
      "377/377 [==============================] - 61s 163ms/step - loss: 0.1056 - accuracy: 0.9668 - val_loss: 0.0140 - val_accuracy: 0.9988\n",
      "Epoch 12/20\n",
      "377/377 [==============================] - 61s 163ms/step - loss: 0.0949 - accuracy: 0.9704 - val_loss: 0.0128 - val_accuracy: 0.9983\n",
      "Epoch 13/20\n",
      "377/377 [==============================] - 60s 160ms/step - loss: 0.0974 - accuracy: 0.9693 - val_loss: 0.0169 - val_accuracy: 0.9972\n",
      "Epoch 14/20\n",
      "377/377 [==============================] - 60s 159ms/step - loss: 0.0845 - accuracy: 0.9733 - val_loss: 0.0114 - val_accuracy: 0.9984\n",
      "Epoch 15/20\n",
      "377/377 [==============================] - 60s 160ms/step - loss: 0.0758 - accuracy: 0.9757 - val_loss: 0.0070 - val_accuracy: 0.9991\n",
      "Epoch 16/20\n",
      "377/377 [==============================] - 60s 159ms/step - loss: 0.0842 - accuracy: 0.9725 - val_loss: 0.0093 - val_accuracy: 0.9983\n",
      "Epoch 17/20\n",
      "377/377 [==============================] - 60s 160ms/step - loss: 0.0717 - accuracy: 0.9761 - val_loss: 0.0054 - val_accuracy: 0.9995\n",
      "Epoch 18/20\n",
      "377/377 [==============================] - 60s 159ms/step - loss: 0.0681 - accuracy: 0.9780 - val_loss: 0.0049 - val_accuracy: 0.9994\n",
      "Epoch 19/20\n",
      "377/377 [==============================] - 60s 160ms/step - loss: 0.0697 - accuracy: 0.9777 - val_loss: 0.0039 - val_accuracy: 0.9995\n",
      "Epoch 20/20\n",
      "377/377 [==============================] - 60s 158ms/step - loss: 0.0659 - accuracy: 0.9790 - val_loss: 0.0063 - val_accuracy: 0.9993\n"
     ]
    }
   ],
   "source": [
    "history1 = model1.fit_generator(\n",
    "                                generator = train_generator,\n",
    "                                # steps_per_epoch = 10,\n",
    "                                epochs = 20,\n",
    "                                validation_data = val_generator,\n",
    "                                # validation_steps = 10\n",
    "                                )"
   ]
  },
  {
   "cell_type": "code",
   "execution_count": 37,
   "metadata": {},
   "outputs": [
    {
     "name": "stdout",
     "output_type": "stream",
     "text": [
      "Note: you may need to restart the kernel to use updated packages.\n"
     ]
    },
    {
     "name": "stderr",
     "output_type": "stream",
     "text": [
      "ERROR: Could not find a version that satisfies the requirement pyplot (from versions: none)\n",
      "ERROR: No matching distribution found for pyplot\n"
     ]
    }
   ],
   "source": []
  },
  {
   "cell_type": "code",
   "execution_count": 39,
   "metadata": {},
   "outputs": [
    {
     "data": {
      "image/png": "[encoded data removed]",
      "text/plain": [
       "<Figure size 432x288 with 1 Axes>"
      ]
     },
     "metadata": {
      "needs_background": "light"
     },
     "output_type": "display_data"
    },
    {
     "data": {
      "image/png": "[encoded data removed]",
      "text/plain": [
       "<Figure size 432x288 with 1 Axes>"
      ]
     },
     "metadata": {
      "needs_background": "light"
     },
     "output_type": "display_data"
    }
   ],
   "source": [
    "acc = history1.history['accuracy']\n",
    "val_acc = history1.history['val_accuracy']\n",
    "loss = history1.history['loss']\n",
    "val_loss = history1.history['val_loss']\n",
    "epochs = range(len(acc))\n",
    "\n",
    "from matplotlib import pyplot as plt\n",
    "\n",
    "plt.plot(epochs, acc, 'y', label='Training acc')\n",
    "plt.plot(epochs, val_acc, 'g', label='test acc')\n",
    "plt.title('Training and testing accuracy')\n",
    "plt.legend()\n",
    "plt.figure()\n",
    "\n",
    "plt.plot(epochs, loss, 'y', label='Training loss')\n",
    "plt.plot(epochs, val_loss, 'g', label='testing loss')\n",
    "plt.title('Training and testing loss')\n",
    "plt.legend()\n",
    "\n",
    "plt.show()"
   ]
  },
  {
   "cell_type": "code",
   "execution_count": 40,
   "metadata": {},
   "outputs": [
    {
     "name": "stdout",
     "output_type": "stream",
     "text": [
      "Model: \"vgg16\"\n",
      "_________________________________________________________________\n",
      "Layer (type)                 Output Shape              Param #   \n",
      "=================================================================\n",
      "input_1 (InputLayer)         [(None, 150, 150, 3)]     0         \n",
      "_________________________________________________________________\n",
      "block1_conv1 (Conv2D)        (None, 150, 150, 64)      1792      \n",
      "_________________________________________________________________\n",
      "block1_conv2 (Conv2D)        (None, 150, 150, 64)      36928     \n",
      "_________________________________________________________________\n",
      "block1_pool (MaxPooling2D)   (None, 75, 75, 64)        0         \n",
      "_________________________________________________________________\n",
      "block2_conv1 (Conv2D)        (None, 75, 75, 128)       73856     \n",
      "_________________________________________________________________\n",
      "block2_conv2 (Conv2D)        (None, 75, 75, 128)       147584    \n",
      "_________________________________________________________________\n",
      "block2_pool (MaxPooling2D)   (None, 37, 37, 128)       0         \n",
      "_________________________________________________________________\n",
      "block3_conv1 (Conv2D)        (None, 37, 37, 256)       295168    \n",
      "_________________________________________________________________\n",
      "block3_conv2 (Conv2D)        (None, 37, 37, 256)       590080    \n",
      "_________________________________________________________________\n",
      "block3_conv3 (Conv2D)        (None, 37, 37, 256)       590080    \n",
      "_________________________________________________________________\n",
      "block3_pool (MaxPooling2D)   (None, 18, 18, 256)       0         \n",
      "_________________________________________________________________\n",
      "block4_conv1 (Conv2D)        (None, 18, 18, 512)       1180160   \n",
      "_________________________________________________________________\n",
      "block4_conv2 (Conv2D)        (None, 18, 18, 512)       2359808   \n",
      "_________________________________________________________________\n",
      "block4_conv3 (Conv2D)        (None, 18, 18, 512)       2359808   \n",
      "_________________________________________________________________\n",
      "block4_pool (MaxPooling2D)   (None, 9, 9, 512)         0         \n",
      "_________________________________________________________________\n",
      "block5_conv1 (Conv2D)        (None, 9, 9, 512)         2359808   \n",
      "_________________________________________________________________\n",
      "block5_conv2 (Conv2D)        (None, 9, 9, 512)         2359808   \n",
      "_________________________________________________________________\n",
      "block5_conv3 (Conv2D)        (None, 9, 9, 512)         2359808   \n",
      "_________________________________________________________________\n",
      "block5_pool (MaxPooling2D)   (None, 4, 4, 512)         0         \n",
      "=================================================================\n",
      "Total params: 14,714,688\n",
      "Trainable params: 14,714,688\n",
      "Non-trainable params: 0\n",
      "_________________________________________________________________\n"
     ]
    }
   ],
   "source": [
    "# VGG16 모델을 사용해서 전이학습\n",
    "from tensorflow.keras.applications import VGG16\n",
    "\n",
    "conv_base = VGG16(weights = 'imagenet', # imagenet에 있는 가중치 사용\n",
    "                include_top = False, # 분류기를 사용 할것인가 ? > 분류기는 우리가 설계\n",
    "                input_shape = (150,150,3)\n",
    "    )\n",
    "\n",
    "conv_base.summary()"
   ]
  },
  {
   "cell_type": "code",
   "execution_count": 41,
   "metadata": {},
   "outputs": [
    {
     "name": "stdout",
     "output_type": "stream",
     "text": [
      "Model: \"sequential_3\"\n",
      "_________________________________________________________________\n",
      "Layer (type)                 Output Shape              Param #   \n",
      "=================================================================\n",
      "vgg16 (Functional)           (None, 4, 4, 512)         14714688  \n",
      "_________________________________________________________________\n",
      "flatten_3 (Flatten)          (None, 8192)              0         \n",
      "_________________________________________________________________\n",
      "dense_6 (Dense)              (None, 512)               4194816   \n",
      "_________________________________________________________________\n",
      "dense_7 (Dense)              (None, 15)                7695      \n",
      "=================================================================\n",
      "Total params: 18,917,199\n",
      "Trainable params: 18,917,199\n",
      "Non-trainable params: 0\n",
      "_________________________________________________________________\n"
     ]
    }
   ],
   "source": [
    "from tensorflow.keras.models import Sequential\n",
    "from tensorflow.keras.layers import Dense, Conv2D, MaxPool2D, Flatten, Dropout\n",
    "model2 = Sequential()\n",
    "\n",
    "# 설계할 모델에 VGG16끼워넣기\n",
    "\n",
    "model2.add(conv_base)\n",
    "\n",
    "model2.add(Flatten())\n",
    "\n",
    "model2.add(Dense(units = 512 ,activation = 'relu'))\n",
    "model2.add(Dense(units = 15 ,activation = 'softmax'))\n",
    "\n",
    "model2.summary()"
   ]
  },
  {
   "cell_type": "code",
   "execution_count": 42,
   "metadata": {},
   "outputs": [
    {
     "name": "stdout",
     "output_type": "stream",
     "text": [
      "30\n"
     ]
    }
   ],
   "source": [
    "# 동결\n",
    "# 오차 역전파시에 VGG16모델의 가중치가 갱신되지 않도록 막는것\n",
    "# 동결되기전에 학습되는 가중치수\n",
    "print(len(model2.trainable_weights))"
   ]
  },
  {
   "cell_type": "code",
   "execution_count": 43,
   "metadata": {},
   "outputs": [],
   "source": [
    "# VGG16의 전체 층에 대해 동결\n",
    "conv_base.trainable = False"
   ]
  },
  {
   "cell_type": "code",
   "execution_count": 44,
   "metadata": {},
   "outputs": [
    {
     "name": "stdout",
     "output_type": "stream",
     "text": [
      "4\n"
     ]
    }
   ],
   "source": [
    "# 동결 후의 훈련되는 가중치수\n",
    "print(len(model2.trainable_weights))"
   ]
  },
  {
   "cell_type": "code",
   "execution_count": 45,
   "metadata": {},
   "outputs": [],
   "source": [
    "model2.compile(loss = 'categorical_crossentropy',\n",
    "                optimizer = 'adam',\n",
    "                metrics = ['accuracy'])"
   ]
  },
  {
   "cell_type": "code",
   "execution_count": 46,
   "metadata": {},
   "outputs": [
    {
     "name": "stderr",
     "output_type": "stream",
     "text": [
      "C:\\Users\\SMHRD\\AppData\\Local\\Programs\\Python\\Python37\\lib\\site-packages\\keras\\engine\\training.py:1972: UserWarning: `Model.fit_generator` is deprecated and will be removed in a future version. Please use `Model.fit`, which supports generators.\n",
      "  warnings.warn('`Model.fit_generator` is deprecated and '\n"
     ]
    },
    {
     "name": "stdout",
     "output_type": "stream",
     "text": [
      "Epoch 1/20\n",
      "377/377 [==============================] - 109s 272ms/step - loss: 0.9337 - accuracy: 0.7087 - val_loss: 0.5077 - val_accuracy: 0.8379\n",
      "Epoch 2/20\n",
      "377/377 [==============================] - 98s 260ms/step - loss: 0.4827 - accuracy: 0.8438 - val_loss: 0.3579 - val_accuracy: 0.8853\n",
      "Epoch 3/20\n",
      "377/377 [==============================] - 102s 271ms/step - loss: 0.3261 - accuracy: 0.8931 - val_loss: 0.2223 - val_accuracy: 0.9323\n",
      "Epoch 4/20\n",
      "377/377 [==============================] - 102s 270ms/step - loss: 0.2192 - accuracy: 0.9293 - val_loss: 0.2104 - val_accuracy: 0.9286\n",
      "Epoch 5/20\n",
      "377/377 [==============================] - 100s 265ms/step - loss: 0.1447 - accuracy: 0.9545 - val_loss: 0.0883 - val_accuracy: 0.9766\n",
      "Epoch 6/20\n",
      "377/377 [==============================] - 99s 262ms/step - loss: 0.0899 - accuracy: 0.9737 - val_loss: 0.1143 - val_accuracy: 0.9609\n",
      "Epoch 7/20\n",
      "377/377 [==============================] - 99s 263ms/step - loss: 0.0716 - accuracy: 0.9782 - val_loss: 0.0490 - val_accuracy: 0.9882\n",
      "Epoch 8/20\n",
      "377/377 [==============================] - 98s 259ms/step - loss: 0.0360 - accuracy: 0.9921 - val_loss: 0.0224 - val_accuracy: 0.9968\n",
      "Epoch 9/20\n",
      "377/377 [==============================] - 98s 260ms/step - loss: 0.0223 - accuracy: 0.9963 - val_loss: 0.0161 - val_accuracy: 0.9976\n",
      "Epoch 10/20\n",
      "377/377 [==============================] - 98s 260ms/step - loss: 0.0282 - accuracy: 0.9923 - val_loss: 0.0873 - val_accuracy: 0.9691\n",
      "Epoch 11/20\n",
      "377/377 [==============================] - 99s 263ms/step - loss: 0.1098 - accuracy: 0.9609 - val_loss: 0.1008 - val_accuracy: 0.9633\n",
      "Epoch 12/20\n",
      "377/377 [==============================] - 97s 259ms/step - loss: 0.0723 - accuracy: 0.9742 - val_loss: 0.0557 - val_accuracy: 0.9802\n",
      "Epoch 13/20\n",
      "377/377 [==============================] - 97s 259ms/step - loss: 0.0425 - accuracy: 0.9855 - val_loss: 0.0242 - val_accuracy: 0.9925\n",
      "Epoch 14/20\n",
      "377/377 [==============================] - 97s 258ms/step - loss: 0.0291 - accuracy: 0.9901 - val_loss: 0.0155 - val_accuracy: 0.9957\n",
      "Epoch 15/20\n",
      "377/377 [==============================] - 101s 268ms/step - loss: 0.0181 - accuracy: 0.9948 - val_loss: 0.0186 - val_accuracy: 0.9938\n",
      "Epoch 16/20\n",
      "377/377 [==============================] - 102s 270ms/step - loss: 0.0303 - accuracy: 0.9901 - val_loss: 0.0284 - val_accuracy: 0.9904\n",
      "Epoch 17/20\n",
      "377/377 [==============================] - 98s 261ms/step - loss: 0.0472 - accuracy: 0.9834 - val_loss: 0.0860 - val_accuracy: 0.9718\n",
      "Epoch 18/20\n",
      "377/377 [==============================] - 99s 264ms/step - loss: 0.0570 - accuracy: 0.9809 - val_loss: 0.0489 - val_accuracy: 0.9823\n",
      "Epoch 19/20\n",
      "377/377 [==============================] - 97s 256ms/step - loss: 0.0346 - accuracy: 0.9879 - val_loss: 0.0178 - val_accuracy: 0.9938\n",
      "Epoch 20/20\n",
      "377/377 [==============================] - 97s 258ms/step - loss: 0.0114 - accuracy: 0.9967 - val_loss: 0.0234 - val_accuracy: 0.9925\n"
     ]
    }
   ],
   "source": [
    "history2 = model2.fit_generator(\n",
    "                                generator = train_generator,\n",
    "                                epochs = 20,\n",
    "                                validation_data = val_generator\n",
    "                                )"
   ]
  },
  {
   "cell_type": "code",
   "execution_count": 47,
   "metadata": {},
   "outputs": [
    {
     "data": {
      "image/png": "[encoded data removed]",
      "text/plain": [
       "<Figure size 432x288 with 1 Axes>"
      ]
     },
     "metadata": {
      "needs_background": "light"
     },
     "output_type": "display_data"
    },
    {
     "data": {
      "image/png": "[encoded data removed]",
      "text/plain": [
       "<Figure size 432x288 with 1 Axes>"
      ]
     },
     "metadata": {
      "needs_background": "light"
     },
     "output_type": "display_data"
    }
   ],
   "source": [
    "acc = history2.history['accuracy']\n",
    "val_acc = history2.history['val_accuracy']\n",
    "loss = history2.history['loss']\n",
    "val_loss = history2.history['val_loss']\n",
    "epochs = range(len(acc))\n",
    "\n",
    "plt.plot(epochs, acc, 'y', label='Training acc')\n",
    "plt.plot(epochs, val_acc, 'g', label='test acc')\n",
    "plt.title('Training and testing accuracy')\n",
    "plt.legend()\n",
    "plt.figure()\n",
    "\n",
    "plt.plot(epochs, loss, 'y', label='Training loss')\n",
    "plt.plot(epochs, val_loss, 'g', label='testing loss')\n",
    "plt.title('Training and testing loss')\n",
    "plt.legend()\n",
    "\n",
    "plt.show()"
   ]
  },
  {
   "cell_type": "code",
   "execution_count": 48,
   "metadata": {},
   "outputs": [
    {
     "name": "stdout",
     "output_type": "stream",
     "text": [
      "Model: \"sequential_4\"\n",
      "_________________________________________________________________\n",
      "Layer (type)                 Output Shape              Param #   \n",
      "=================================================================\n",
      "vgg16 (Functional)           (None, 4, 4, 512)         14714688  \n",
      "_________________________________________________________________\n",
      "flatten_4 (Flatten)          (None, 8192)              0         \n",
      "_________________________________________________________________\n",
      "dense_8 (Dense)              (None, 512)               4194816   \n",
      "_________________________________________________________________\n",
      "dense_9 (Dense)              (None, 15)                7695      \n",
      "=================================================================\n",
      "Total params: 18,917,199\n",
      "Trainable params: 4,202,511\n",
      "Non-trainable params: 14,714,688\n",
      "_________________________________________________________________\n"
     ]
    }
   ],
   "source": [
    "# 미세조정\n",
    "from tensorflow.keras.models import Sequential\n",
    "from tensorflow.keras.layers import Dense, Conv2D, MaxPool2D, Flatten, Dropout\n",
    "model3 = Sequential()\n",
    "\n",
    "# 설계할 모델에 VGG16끼워넣기\n",
    "\n",
    "model3.add(conv_base)\n",
    "\n",
    "model3.add(Flatten())\n",
    "\n",
    "model3.add(Dense(units = 512 ,activation = 'relu'))\n",
    "model3.add(Dense(units = 15 ,activation = 'softmax'))\n",
    "\n",
    "model3.summary()"
   ]
  },
  {
   "cell_type": "code",
   "execution_count": 49,
   "metadata": {},
   "outputs": [
    {
     "name": "stdout",
     "output_type": "stream",
     "text": [
      "Model: \"vgg16\"\n",
      "_________________________________________________________________\n",
      "Layer (type)                 Output Shape              Param #   \n",
      "=================================================================\n",
      "input_1 (InputLayer)         [(None, 150, 150, 3)]     0         \n",
      "_________________________________________________________________\n",
      "block1_conv1 (Conv2D)        (None, 150, 150, 64)      1792      \n",
      "_________________________________________________________________\n",
      "block1_conv2 (Conv2D)        (None, 150, 150, 64)      36928     \n",
      "_________________________________________________________________\n",
      "block1_pool (MaxPooling2D)   (None, 75, 75, 64)        0         \n",
      "_________________________________________________________________\n",
      "block2_conv1 (Conv2D)        (None, 75, 75, 128)       73856     \n",
      "_________________________________________________________________\n",
      "block2_conv2 (Conv2D)        (None, 75, 75, 128)       147584    \n",
      "_________________________________________________________________\n",
      "block2_pool (MaxPooling2D)   (None, 37, 37, 128)       0         \n",
      "_________________________________________________________________\n",
      "block3_conv1 (Conv2D)        (None, 37, 37, 256)       295168    \n",
      "_________________________________________________________________\n",
      "block3_conv2 (Conv2D)        (None, 37, 37, 256)       590080    \n",
      "_________________________________________________________________\n",
      "block3_conv3 (Conv2D)        (None, 37, 37, 256)       590080    \n",
      "_________________________________________________________________\n",
      "block3_pool (MaxPooling2D)   (None, 18, 18, 256)       0         \n",
      "_________________________________________________________________\n",
      "block4_conv1 (Conv2D)        (None, 18, 18, 512)       1180160   \n",
      "_________________________________________________________________\n",
      "block4_conv2 (Conv2D)        (None, 18, 18, 512)       2359808   \n",
      "_________________________________________________________________\n",
      "block4_conv3 (Conv2D)        (None, 18, 18, 512)       2359808   \n",
      "_________________________________________________________________\n",
      "block4_pool (MaxPooling2D)   (None, 9, 9, 512)         0         \n",
      "_________________________________________________________________\n",
      "block5_conv1 (Conv2D)        (None, 9, 9, 512)         2359808   \n",
      "_________________________________________________________________\n",
      "block5_conv2 (Conv2D)        (None, 9, 9, 512)         2359808   \n",
      "_________________________________________________________________\n",
      "block5_conv3 (Conv2D)        (None, 9, 9, 512)         2359808   \n",
      "_________________________________________________________________\n",
      "block5_pool (MaxPooling2D)   (None, 4, 4, 512)         0         \n",
      "=================================================================\n",
      "Total params: 14,714,688\n",
      "Trainable params: 0\n",
      "Non-trainable params: 14,714,688\n",
      "_________________________________________________________________\n"
     ]
    }
   ],
   "source": [
    "conv_base.summary()"
   ]
  },
  {
   "cell_type": "code",
   "execution_count": 50,
   "metadata": {},
   "outputs": [],
   "source": [
    "# block5_conv1 ~ 3 층을 학습 시켜보자\n",
    "conv_base.trainable = False\n",
    "\n",
    "# VGG 신경망 한층(block5_conv3)를 가져와서 학습하게 만들어보자\n",
    "set_trainable = False"
   ]
  },
  {
   "cell_type": "code",
   "execution_count": 51,
   "metadata": {},
   "outputs": [],
   "source": [
    "for layer in conv_base.layers:\n",
    "# 가져온 층의 이름이 block5_conv1이라면\n",
    "# block5_conv1 하위의 층들을 학습을 하도록 동결을 풀어준다\n",
    "    if layer.name == 'block4_conv2':\n",
    "        set_trainable = True\n",
    "\n",
    "    if set_trainable == True:\n",
    "        layer.trainable = True\n",
    "    else :\n",
    "        layer.trainable = False"
   ]
  },
  {
   "cell_type": "code",
   "execution_count": 52,
   "metadata": {},
   "outputs": [],
   "source": [
    "model3.compile(loss = 'categorical_crossentropy',\n",
    "                optimizer = 'adam',\n",
    "                metrics = ['accuracy'])"
   ]
  },
  {
   "cell_type": "code",
   "execution_count": 53,
   "metadata": {},
   "outputs": [
    {
     "name": "stdout",
     "output_type": "stream",
     "text": [
      "Epoch 1/20\n",
      "377/377 [==============================] - 100s 263ms/step - loss: 0.9453 - accuracy: 0.7064 - val_loss: 0.5114 - val_accuracy: 0.8376\n",
      "Epoch 2/20\n",
      "377/377 [==============================] - 100s 267ms/step - loss: 0.4894 - accuracy: 0.8387 - val_loss: 0.3456 - val_accuracy: 0.8895\n",
      "Epoch 3/20\n",
      "377/377 [==============================] - 99s 262ms/step - loss: 0.3203 - accuracy: 0.8953 - val_loss: 0.1987 - val_accuracy: 0.9412\n",
      "Epoch 4/20\n",
      "377/377 [==============================] - 97s 258ms/step - loss: 0.2246 - accuracy: 0.9278 - val_loss: 0.1460 - val_accuracy: 0.9578\n",
      "Epoch 5/20\n",
      "377/377 [==============================] - ETA: 0s - loss: 0.1437 - accuracy: 0.9558"
     ]
    }
   ],
   "source": [
    "history3 = model3.fit_generator(\n",
    "                                generator = train_generator,\n",
    "                                epochs = 20,\n",
    "                                validation_data = val_generator\n",
    ")"
   ]
  },
  {
   "cell_type": "code",
   "execution_count": null,
   "metadata": {},
   "outputs": [],
   "source": [
    "acc = history3.history['accuracy']\n",
    "val_acc = history3.history['val_accuracy']\n",
    "loss = history3.history['loss']\n",
    "val_loss = history3.history['val_loss']\n",
    "epochs = range(len(acc))\n",
    "\n",
    "plt.plot(epochs, acc, 'y', label='Training acc')\n",
    "plt.plot(epochs, val_acc, 'g', label='test acc')\n",
    "plt.title('Training and testing accuracy')\n",
    "plt.legend()\n",
    "plt.figure()\n",
    "\n",
    "plt.plot(epochs, loss, 'y', label='Training loss')\n",
    "plt.plot(epochs, val_loss, 'g', label='testing loss')\n",
    "plt.title('Training and testing loss')\n",
    "plt.legend()\n",
    "\n",
    "plt.show()"
   ]
  },
  {
   "cell_type": "code",
   "execution_count": null,
   "metadata": {},
   "outputs": [],
   "source": [
    "#모델 선택해서 저장하기\n",
    "model3.save('food.h5', include_optimizer=False)"
   ]
  }
 ],
 "metadata": {
  "interpreter": {
   "hash": "b55d97c5ceb30a938e3a6a7089238ad1b46f9b249c3392093011d69d2440d11b"
  },
  "kernelspec": {
   "display_name": "Python 3.7.9 64-bit",
   "name": "python3"
  },
  "language_info": {
   "codemirror_mode": {
    "name": "ipython",
    "version": 3
   },
   "file_extension": ".py",
   "mimetype": "text/x-python",
   "name": "python",
   "nbconvert_exporter": "python",
   "pygments_lexer": "ipython3",
   "version": "3.7.9"
  },
  "orig_nbformat": 4
 },
 "nbformat": 4,
 "nbformat_minor": 2
}
