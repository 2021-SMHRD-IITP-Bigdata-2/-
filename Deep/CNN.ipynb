{
 "cells": [
  {
   "cell_type": "code",
   "execution_count": null,
   "metadata": {},
   "outputs": [],
   "source": [
    "# 15가지 음식 데이터 \n",
    "# 데이터 구성 -> train 학습, val 학습확인, test 결과\n",
    "# train : 2000\n",
    "# val : 500\n",
    "# test : 11"
   ]
  },
  {
   "cell_type": "code",
   "execution_count": 1,
   "metadata": {},
   "outputs": [],
   "source": [
    "import os"
   ]
  },
  {
   "cell_type": "code",
   "execution_count": 4,
   "metadata": {},
   "outputs": [
    {
     "name": "stdout",
     "output_type": "stream",
     "text": [
      "15\n",
      "15\n",
      "15\n"
     ]
    }
   ],
   "source": [
    "# Folder\n",
    "train_dir = './food/'\n",
    "val_dir = './food/'\n",
    "test_dir = './food/'\n",
    "print(len(os.listdir(train_dir)))\n",
    "print(len(os.listdir(val_dir)))\n",
    "print(len(os.listdir(test_dir)))"
   ]
  },
  {
   "cell_type": "code",
   "execution_count": 7,
   "metadata": {},
   "outputs": [
    {
     "ename": "SyntaxError",
     "evalue": "invalid syntax (Temp/ipykernel_7480/1826052190.py, line 50)",
     "output_type": "error",
     "traceback": [
      "\u001b[1;36m  File \u001b[1;32m\"C:\\Users\\SMHRD\\AppData\\Local\\Temp/ipykernel_7480/1826052190.py\"\u001b[1;36m, line \u001b[1;32m50\u001b[0m\n\u001b[1;33m    print(len(os.listdir(train_bul_dir))\u001b[0m\n\u001b[1;37m        ^\u001b[0m\n\u001b[1;31mSyntaxError\u001b[0m\u001b[1;31m:\u001b[0m invalid syntax\n"
     ]
    }
   ],
   "source": [
    "train_boli_dir = train_dir+\"Boli_bibimbab/train\"\n",
    "train_bul_dir = train_dir+\"Bulgogi/train\"\n",
    "train_kkomak_dir = train_dir+\"Bulgoyokkomak/train\"\n",
    "train_ganjang_dir = train_dir+\"Ganjang_gejang/train\"\n",
    "train_gob_dir = train_dir+\"Gobchang/train\"\n",
    "train_gom_dir = train_dir+\"Gomtang/train\"\n",
    "train_gulbi_dir = train_dir+\"Gulbi/train\"\n",
    "train_hanu_dir = train_dir+\"Hanuyughoe/train\"\n",
    "train_jang_dir = train_dir+\"Jangeogui/train\"\n",
    "train_kal_dir = train_dir+\"Kalguksu/train\"\n",
    "train_o_dir = train_dir+\"Olitang/train\"\n",
    "train_sam_dir = train_dir+\"Samgyeobsal/train\"\n",
    "train_sang_dir = train_dir+\"Sangchutwigim/train\"\n",
    "train_tteo_dir = train_dir+\"Tteoggalbi/train\"\n",
    "train_bokki_dir = train_dir+\"Tteokbokki/train\"\n",
    "\n",
    "test_boli_dir = test_dir+\"Boli_bibimbab/test\"\n",
    "test_bul_dir = test_dir+\"Bulgogi/test\"\n",
    "test_kkomak_dir = test_dir+\"Bulgoyokkomak/test\"\n",
    "test_ganjang_dir = test_dir+\"Ganjang_gejang/test\"\n",
    "test_gob_dir = test_dir+\"Gobchang/test\"\n",
    "test_gom_dir = test_dir+\"Gomtang/test\"\n",
    "test_gulbi_dir = test_dir+\"Gulbi/test\"\n",
    "test_hanu_dir = test_dir+\"Hanuyughoe/test\"\n",
    "test_jang_dir = test_dir+\"Jangeogui/test\"\n",
    "test_kal_dir = test_dir+\"Kalguksu/test\"\n",
    "test_o_dir = test_dir+\"Olitang/test\"\n",
    "test_sam_dir = test_dir+\"Samgyeobsal/test\"\n",
    "test_sang_dir = test_dir+\"Sangchutwigim/test\"\n",
    "test_tteo_dir = test_dir+\"Tteoggalbi/test\"\n",
    "test_bokki_dir = test_dir+\"Tteokbokki/test\"\n",
    "\n",
    "val_boli_dir = val_dir+\"Boli_bibimbab/val\"\n",
    "val_bul_dir = val_dir+\"Bulgogi/val\"\n",
    "val_kkomak_dir = val_dir+\"Bulgoyokkomak/val\"\n",
    "val_ganjang_dir = val_dir+\"Ganjang_gejang/val\"\n",
    "val_gob_dir = val_dir+\"Gobchang/val\"\n",
    "val_gom_dir = val_dir+\"Gomtang/val\"\n",
    "val_gulbi_dir = val_dir+\"Gulbi/val\"\n",
    "val_hanu_dir = val_dir+\"Hanuyughoe/val\"\n",
    "val_jang_dir = val_dir+\"Jangeogui/val\"\n",
    "val_kal_dir = val_dir+\"Kalguksu/val\"\n",
    "val_o_dir = val_dir+\"Olitang/val\"\n",
    "val_sam_dir = val_dir+\"Samgyeobsal/val\"\n",
    "val_sang_dir = val_dir+\"Sangchutwigim/val\"\n",
    "val_tteo_dir = val_dir+\"Tteoggalbi/val\"\n",
    "val_bokki_dir = val_dir+\"Tteokbokki/val\"\n",
    "\n",
    "print(len(os.listdir(train_boli_dir))\n",
    "print(len(os.listdir(train_bul_dir))\n",
    "print(len(os.listdir(train_kkomak_dir))\n",
    "print(len(os.listdir(train_ganjang_dir))\n",
    "print(len(os.listdir(train_gob_dir))\n",
    "print(len(os.listdir(train_gom_dir))\n",
    "print(len(os.listdir(train_gulbi_dir))\n",
    "print(len(os.listdir(train_hanu_dir))\n",
    "print(len(os.listdir(train_jang_dir))\n",
    "print(len(os.listdir(train_kal_dir))\n",
    "print(len(os.listdir(train_o_dir))\n",
    "print(len(os.listdir(train_sam_dir))\n",
    "print(len(os.listdir(train_sang_dir))\n",
    "print(len(os.listdir(train_tteo_dir))\n",
    "print(len(os.listdir(train_bokki_dir))\n"
   ]
  },
  {
   "cell_type": "code",
   "execution_count": null,
   "metadata": {},
   "outputs": [],
   "source": []
  }
 ],
 "metadata": {
  "interpreter": {
   "hash": "b55d97c5ceb30a938e3a6a7089238ad1b46f9b249c3392093011d69d2440d11b"
  },
  "kernelspec": {
   "display_name": "Python 3.7.9 64-bit",
   "name": "python3"
  },
  "language_info": {
   "codemirror_mode": {
    "name": "ipython",
    "version": 3
   },
   "file_extension": ".py",
   "mimetype": "text/x-python",
   "name": "python",
   "nbconvert_exporter": "python",
   "pygments_lexer": "ipython3",
   "version": "3.7.9"
  },
  "orig_nbformat": 4
 },
 "nbformat": 4,
 "nbformat_minor": 2
}
