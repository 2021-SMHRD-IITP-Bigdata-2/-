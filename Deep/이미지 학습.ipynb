{
  "cells": [
    {
      "cell_type": "code",
      "execution_count": null,
      "metadata": {
        "id": "q9WXT6tbQqaR"
      },
      "outputs": [],
      "source": [
        "# 개 고양이 사진데이터\n",
        "# 데이터 구성\n",
        "# 총 3022개\n",
        "# train : 2000개\n",
        "# validation : 1000개\n",
        "# test : 22개"
      ]
    },
    {
      "cell_type": "code",
      "execution_count": 1,
      "metadata": {},
      "outputs": [
        {
          "name": "stdout",
          "output_type": "stream",
          "text": [
            "2.6.0\n"
          ]
        }
      ],
      "source": [
        "import tensorflow as tf\n",
        "print(tf.__version__)"
      ]
    },
    {
      "cell_type": "code",
      "execution_count": 2,
      "metadata": {
        "id": "qVllhjlzDTpT"
      },
      "outputs": [],
      "source": [
        "import os"
      ]
    },
    {
      "cell_type": "code",
      "execution_count": 3,
      "metadata": {
        "id": "iu1MM7edDWjy"
      },
      "outputs": [],
      "source": [
        "# 각각 폴더 경로 적기\n",
        "train_dir = './test/'\n",
        "val_dir = './test/'\n",
        "test_dir = './test/'"
      ]
    },
    {
      "cell_type": "code",
      "execution_count": 4,
      "metadata": {
        "colab": {
          "base_uri": "https://localhost:8080/"
        },
        "id": "vdi0QzldD36h",
        "outputId": "ee2addf9-4a83-4418-e010-21c9b82f49a2"
      },
      "outputs": [
        {
          "name": "stdout",
          "output_type": "stream",
          "text": [
            "2\n",
            "2\n",
            "2\n"
          ]
        }
      ],
      "source": [
        "print(len(os.listdir(train_dir)))\n",
        "print(len(os.listdir(val_dir)))\n",
        "print(len(os.listdir(test_dir)))"
      ]
    },
    {
      "cell_type": "code",
      "execution_count": 5,
      "metadata": {
        "id": "bu2tlY6oE31z"
      },
      "outputs": [],
      "source": [
        "train_bi_dir = train_dir+\"비빔밥/train\"\n",
        "train_bul_dir = train_dir+\"불고기/train\"\n",
        "\n",
        "test_bi_dir = test_dir+\"비빔밥/test\"\n",
        "test_bul_dir = test_dir+\"불고기/test\"\n",
        "\n",
        "val_bi_dir = val_dir +\"비빔밥/val\"\n",
        "val_bul_dir = val_dir +\"불고기/val\""
      ]
    },
    {
      "cell_type": "code",
      "execution_count": 6,
      "metadata": {
        "colab": {
          "base_uri": "https://localhost:8080/"
        },
        "id": "lnJBdnDjJogj",
        "outputId": "f105039f-e04d-4c2c-e007-4c59feb2c149"
      },
      "outputs": [
        {
          "name": "stdout",
          "output_type": "stream",
          "text": [
            "2000\n",
            "2000\n",
            "500\n",
            "500\n",
            "1\n",
            "1\n"
          ]
        }
      ],
      "source": [
        "print(len(os.listdir(train_bi_dir)))\n",
        "print(len(os.listdir(train_bul_dir)))\n",
        "print(len(os.listdir(val_bi_dir)))\n",
        "print(len(os.listdir(val_bul_dir)))\n",
        "print(len(os.listdir(test_bi_dir)))\n",
        "print(len(os.listdir(test_bul_dir)))"
      ]
    },
    {
      "cell_type": "code",
      "execution_count": 7,
      "metadata": {
        "colab": {
          "base_uri": "https://localhost:8080/"
        },
        "id": "iez1ACBcLOsU",
        "outputId": "78df035d-bf0c-4c79-94f4-2c381ee63e27"
      },
      "outputs": [
        {
          "name": "stdout",
          "output_type": "stream",
          "text": [
            "Found 5002 images belonging to 2 classes.\n",
            "Found 5002 images belonging to 2 classes.\n",
            "Found 5002 images belonging to 2 classes.\n"
          ]
        }
      ],
      "source": [
        "# 이미지 데이터를 하나의 변수에 집어넣기\n",
        "# 픽셀값 255 > 1\n",
        "# 이미지 크기 (150,150) 으로 변환\n",
        "# 라벨링\n",
        "from tensorflow.keras.preprocessing.image import ImageDataGenerator\n",
        "\n",
        "# 픽셀값 0 ~ 1사이 변환\n",
        "train_gen = ImageDataGenerator(rescale=1./255)\n",
        "val_gen = ImageDataGenerator(rescale=1./255)\n",
        "test_gen = ImageDataGenerator(rescale=1./255)\n",
        "\n",
        "# flow_from_directory() : 디렉토리로부터 이미지를 가져오는 함수\n",
        "# flow_from_directory(디렉토리 이름, 변환할 이미지 크기, 한번에 변환할 이미지 수, 라벨링)\n",
        "\n",
        "# binary = 이진분류\n",
        "# 폴더를 알파벳 순으로 라벨링, 0의 값부터 라벨링\n",
        "# cats 폴더 안에 있는 이미지들은 0\n",
        "# dogs 폴더 안에 있는 이미지들은 1\n",
        "\n",
        "# categorical = 다중분류\n",
        "train_generator = train_gen.flow_from_directory(train_dir,\n",
        "                                                target_size = (150,150),\n",
        "                                                batch_size = 100,\n",
        "                                                class_mode = 'binary')\n",
        "\n",
        "val_generator = val_gen.flow_from_directory(val_dir,\n",
        "                                                target_size = (150,150),\n",
        "                                                batch_size = 100,\n",
        "                                                class_mode = 'binary')\n",
        "\n",
        "test_generator = test_gen.flow_from_directory(test_dir,\n",
        "                                                target_size = (150,150),\n",
        "                                                batch_size = 100,\n",
        "                                                class_mode = 'binary')\n"
      ]
    },
    {
      "cell_type": "code",
      "execution_count": 8,
      "metadata": {
        "colab": {
          "base_uri": "https://localhost:8080/"
        },
        "id": "yV7bv-YBPElV",
        "outputId": "b0d68ed2-9ea6-4eef-8f37-fd19a2084e40"
      },
      "outputs": [
        {
          "name": "stdout",
          "output_type": "stream",
          "text": [
            "{'불고기': 0, '비빔밥': 1}\n",
            "{'불고기': 0, '비빔밥': 1}\n",
            "{'불고기': 0, '비빔밥': 1}\n"
          ]
        }
      ],
      "source": [
        "# 라벨링 결과 확인\n",
        "print(train_generator.class_indices)\n",
        "print(val_generator.class_indices)\n",
        "print(test_generator.class_indices)"
      ]
    },
    {
      "cell_type": "code",
      "execution_count": 9,
      "metadata": {
        "colab": {
          "base_uri": "https://localhost:8080/"
        },
        "id": "Ms4SF3D5PlJl",
        "outputId": "1aff9536-87ee-4a7a-f130-5854759468ee"
      },
      "outputs": [
        {
          "name": "stdout",
          "output_type": "stream",
          "text": [
            "Model: \"sequential\"\n",
            "_________________________________________________________________\n",
            "Layer (type)                 Output Shape              Param #   \n",
            "=================================================================\n",
            "conv2d (Conv2D)              (None, 150, 150, 32)      896       \n",
            "_________________________________________________________________\n",
            "max_pooling2d (MaxPooling2D) (None, 75, 75, 32)        0         \n",
            "_________________________________________________________________\n",
            "flatten (Flatten)            (None, 180000)            0         \n",
            "_________________________________________________________________\n",
            "dense (Dense)                (None, 512)               92160512  \n",
            "_________________________________________________________________\n",
            "dropout (Dropout)            (None, 512)               0         \n",
            "_________________________________________________________________\n",
            "dense_1 (Dense)              (None, 1)                 513       \n",
            "=================================================================\n",
            "Total params: 92,161,921\n",
            "Trainable params: 92,161,921\n",
            "Non-trainable params: 0\n",
            "_________________________________________________________________\n"
          ]
        }
      ],
      "source": [
        "# CNN 모델 설계\n",
        "\n",
        "from tensorflow.keras.models import Sequential\n",
        "from tensorflow.keras.layers import Dense, Conv2D, MaxPool2D, Flatten, Dropout\n",
        "\n",
        "model1 = Sequential()\n",
        "\n",
        "# 입력층\n",
        "# 특징 추출부\n",
        "model1.add(Conv2D(\n",
        "    filters = 32,\n",
        "    kernel_size = (3,3),\n",
        "    input_shape = (150,150, 3),\n",
        "    padding = 'same',\n",
        "    activation = 'relu'\n",
        "))\n",
        "\n",
        "model1.add(MaxPool2D(\n",
        "    pool_size = (2,2)\n",
        "))\n",
        "\n",
        "model1.add(Flatten()) # MLP이 학습하기 위해서 데이터를 1차원으로 만들어주는 역할\n",
        "\n",
        "############################# 특징 추출부 끝 ################\n",
        "############################# 분류부 시작 ###################\n",
        "# 이미 위에서 특징들을 추출했기 때문에 층을 깊게 쌓지 않아도 됨\n",
        "# MLP 사용\n",
        "model1.add(Dense(units = 512 , activation = 'relu'))\n",
        "# 과대적합 방지\n",
        "# 학습할때는 0.3만큼 drop해서 0.7만큼의 유닛만 사용해서 학습\n",
        "# 예측할때는 전부 사용해서 예측\n",
        "model1.add(Dropout(0.3))\n",
        "\n",
        "# 출력층\n",
        "model1.add(Dense(units = 1 , activation = 'sigmoid'))\n",
        "\n",
        "model1.summary()\n",
        "\n"
      ]
    },
    {
      "cell_type": "code",
      "execution_count": 10,
      "metadata": {
        "id": "DcloSN3pa2ly"
      },
      "outputs": [],
      "source": [
        "# 이진분류\n",
        "model1.compile(loss = 'binary_crossentropy',\n",
        "               optimizer = 'adam',\n",
        "               metrics = ['accuracy'])"
      ]
    },
    {
      "cell_type": "code",
      "execution_count": null,
      "metadata": {
        "colab": {
          "base_uri": "https://localhost:8080/"
        },
        "id": "9hBHN7jWb2Sq",
        "outputId": "428ecc98-56c5-485a-826e-ee6f9b71796d"
      },
      "outputs": [],
      "source": [
        "model1.fit_generator(\n",
        "    generator = train_generator,\n",
        "    # steps_per_epoch = 10,\n",
        "    epochs = 20,\n",
        "    validation_data = val_generator,\n",
        "    # validation_steps = 10\n",
        ")"
      ]
    },
    {
      "cell_type": "code",
      "execution_count": null,
      "metadata": {
        "colab": {
          "base_uri": "https://localhost:8080/"
        },
        "id": "aE2HKLnqjfym",
        "outputId": "cca00fc2-d9c5-4828-ff84-ed7b8f936f1a"
      },
      "outputs": [
        {
          "name": "stdout",
          "output_type": "stream",
          "text": [
            "Found 2000 images belonging to 2 classes.\n"
          ]
        }
      ],
      "source": [
        "# 이미지 증식\n",
        "# imagedatagenerator에서 사용 가능\n",
        "train_gen1 = ImageDataGenerator(\n",
        "    rescale = 1./255,\n",
        "    rotation_range = 20,\n",
        "    width_shift_range = 0.1,\n",
        "    height_shift_range = 0.1,\n",
        "    shear_range = 0.1,\n",
        "    zoom_range = 0.1,\n",
        "    horizontal_flip = True,\n",
        "    fill_mode = 'nearest'\n",
        ")\n",
        "\n",
        "train_generator1 = train_gen1.flow_from_directory(train_dir,\n",
        "                                                target_size = (150,150),\n",
        "                                                batch_size = 20,\n",
        "                                                class_mode = 'binary')"
      ]
    },
    {
      "cell_type": "code",
      "execution_count": null,
      "metadata": {
        "id": "CzFcySVSnnWG"
      },
      "outputs": [],
      "source": [
        "# 이진분류\n",
        "model1.compile(loss = 'binary_crossentropy',\n",
        "            optimizer = 'adam',\n",
        "            metrics = ['accuracy'])"
      ]
    },
    {
      "cell_type": "code",
      "execution_count": null,
      "metadata": {
        "colab": {
          "background_save": true,
          "base_uri": "https://localhost:8080/"
        },
        "id": "6wKx4h1rns6s",
        "outputId": "4bfdc1ec-4c76-4e2f-b32f-5698c525fd27"
      },
      "outputs": [],
      "source": [
        "model1.fit_generator(\n",
        "    generator = train_generator1,\n",
        "    # steps_per_epoch = 20,\n",
        "    epochs = 20,\n",
        "    validation_data = val_generator,\n",
        "    # validation_steps = 20\n",
        ")"
      ]
    },
    {
      "cell_type": "code",
      "execution_count": 19,
      "metadata": {
        "colab": {
          "base_uri": "https://localhost:8080/"
        },
        "id": "17202rfLqKwh",
        "outputId": "0c9cc66a-2596-4abc-dd61-0693c0151953"
      },
      "outputs": [
        {
          "name": "stdout",
          "output_type": "stream",
          "text": [
            "Downloading data from https://storage.googleapis.com/tensorflow/keras-applications/vgg16/vgg16_weights_tf_dim_ordering_tf_kernels_notop.h5\n",
            "58892288/58889256 [==============================] - 1s 0us/step\n",
            "58900480/58889256 [==============================] - 1s 0us/step\n"
          ]
        }
      ],
      "source": [
        "# VGG16 모델을 사용해서 전이학습\n",
        "from tensorflow.keras.applications import VGG16\n",
        "\n",
        "conv_base = VGG16(weights = 'imagenet', # imagenet에 있는 가중치 사용\n",
        "                  include_top = False, # 분류기를 사용 할것인가 ? > 분류기는 우리가 설계\n",
        "                  input_shape = (150,150,3)\n",
        "    )"
      ]
    },
    {
      "cell_type": "code",
      "execution_count": 20,
      "metadata": {
        "colab": {
          "base_uri": "https://localhost:8080/"
        },
        "id": "DJsGWRwJS4E_",
        "outputId": "a17be9f6-fdf9-4577-dba0-fdce2660b519"
      },
      "outputs": [
        {
          "name": "stdout",
          "output_type": "stream",
          "text": [
            "Model: \"vgg16\"\n",
            "_________________________________________________________________\n",
            "Layer (type)                 Output Shape              Param #   \n",
            "=================================================================\n",
            "input_1 (InputLayer)         [(None, 150, 150, 3)]     0         \n",
            "_________________________________________________________________\n",
            "block1_conv1 (Conv2D)        (None, 150, 150, 64)      1792      \n",
            "_________________________________________________________________\n",
            "block1_conv2 (Conv2D)        (None, 150, 150, 64)      36928     \n",
            "_________________________________________________________________\n",
            "block1_pool (MaxPooling2D)   (None, 75, 75, 64)        0         \n",
            "_________________________________________________________________\n",
            "block2_conv1 (Conv2D)        (None, 75, 75, 128)       73856     \n",
            "_________________________________________________________________\n",
            "block2_conv2 (Conv2D)        (None, 75, 75, 128)       147584    \n",
            "_________________________________________________________________\n",
            "block2_pool (MaxPooling2D)   (None, 37, 37, 128)       0         \n",
            "_________________________________________________________________\n",
            "block3_conv1 (Conv2D)        (None, 37, 37, 256)       295168    \n",
            "_________________________________________________________________\n",
            "block3_conv2 (Conv2D)        (None, 37, 37, 256)       590080    \n",
            "_________________________________________________________________\n",
            "block3_conv3 (Conv2D)        (None, 37, 37, 256)       590080    \n",
            "_________________________________________________________________\n",
            "block3_pool (MaxPooling2D)   (None, 18, 18, 256)       0         \n",
            "_________________________________________________________________\n",
            "block4_conv1 (Conv2D)        (None, 18, 18, 512)       1180160   \n",
            "_________________________________________________________________\n",
            "block4_conv2 (Conv2D)        (None, 18, 18, 512)       2359808   \n",
            "_________________________________________________________________\n",
            "block4_conv3 (Conv2D)        (None, 18, 18, 512)       2359808   \n",
            "_________________________________________________________________\n",
            "block4_pool (MaxPooling2D)   (None, 9, 9, 512)         0         \n",
            "_________________________________________________________________\n",
            "block5_conv1 (Conv2D)        (None, 9, 9, 512)         2359808   \n",
            "_________________________________________________________________\n",
            "block5_conv2 (Conv2D)        (None, 9, 9, 512)         2359808   \n",
            "_________________________________________________________________\n",
            "block5_conv3 (Conv2D)        (None, 9, 9, 512)         2359808   \n",
            "_________________________________________________________________\n",
            "block5_pool (MaxPooling2D)   (None, 4, 4, 512)         0         \n",
            "=================================================================\n",
            "Total params: 14,714,688\n",
            "Trainable params: 14,714,688\n",
            "Non-trainable params: 0\n",
            "_________________________________________________________________\n"
          ]
        }
      ],
      "source": [
        "conv_base.summary()"
      ]
    },
    {
      "cell_type": "code",
      "execution_count": 21,
      "metadata": {
        "id": "rSCZ7vMoTKs9"
      },
      "outputs": [
        {
          "name": "stdout",
          "output_type": "stream",
          "text": [
            "Model: \"sequential_1\"\n",
            "_________________________________________________________________\n",
            "Layer (type)                 Output Shape              Param #   \n",
            "=================================================================\n",
            "vgg16 (Functional)           (None, 4, 4, 512)         14714688  \n",
            "_________________________________________________________________\n",
            "flatten_1 (Flatten)          (None, 8192)              0         \n",
            "_________________________________________________________________\n",
            "dense_2 (Dense)              (None, 512)               4194816   \n",
            "_________________________________________________________________\n",
            "dense_3 (Dense)              (None, 1)                 513       \n",
            "=================================================================\n",
            "Total params: 18,910,017\n",
            "Trainable params: 18,910,017\n",
            "Non-trainable params: 0\n",
            "_________________________________________________________________\n"
          ]
        }
      ],
      "source": [
        "from tensorflow.keras.models import Sequential\n",
        "from tensorflow.keras.layers import Dense, Conv2D, MaxPool2D, Flatten, Dropout\n",
        "model2 = Sequential()\n",
        "\n",
        "# 설계할 모델에 VGG16끼워넣기\n",
        "\n",
        "model2.add(conv_base)\n",
        "\n",
        "model2.add(Flatten())\n",
        "\n",
        "model2.add(Dense(units = 512 ,activation = 'relu'))\n",
        "model2.add(Dense(units = 1 ,activation = 'sigmoid'))\n",
        "\n",
        "model2.summary()"
      ]
    },
    {
      "cell_type": "code",
      "execution_count": null,
      "metadata": {
        "id": "RWR7DKBCU3fO"
      },
      "outputs": [],
      "source": [
        "# 동결\n",
        "# 오차 역전파시에 VGG16모델의 가중치가 갱신되지 않도록 막는것"
      ]
    },
    {
      "cell_type": "code",
      "execution_count": 22,
      "metadata": {
        "colab": {
          "base_uri": "https://localhost:8080/"
        },
        "id": "_pg8HXx4V8o_",
        "outputId": "b0fbaa06-5b99-4a8e-ec28-cc384fc4a7f6"
      },
      "outputs": [
        {
          "name": "stdout",
          "output_type": "stream",
          "text": [
            "30\n"
          ]
        }
      ],
      "source": [
        "# 동결되기전에 학습되는 가중치수\n",
        "print(len(model2.trainable_weights))"
      ]
    },
    {
      "cell_type": "code",
      "execution_count": 23,
      "metadata": {
        "id": "DavFrH4pWLEX"
      },
      "outputs": [],
      "source": [
        "# VGG16의 전체 층에 대해 동결\n",
        "conv_base.trainable = False"
      ]
    },
    {
      "cell_type": "code",
      "execution_count": null,
      "metadata": {
        "colab": {
          "base_uri": "https://localhost:8080/"
        },
        "id": "qHh1M3MQWYVH",
        "outputId": "85a0ee92-4576-423a-97c5-f2eb59d9110f"
      },
      "outputs": [
        {
          "name": "stdout",
          "output_type": "stream",
          "text": [
            "4\n"
          ]
        }
      ],
      "source": [
        "# 동결 후의 훈련되는 가중치수\n",
        "print(len(model2.trainable_weights))"
      ]
    },
    {
      "cell_type": "code",
      "execution_count": 24,
      "metadata": {
        "id": "_kMF4H7lWobB"
      },
      "outputs": [],
      "source": [
        "model2.compile(loss = 'binary_crossentropy',\n",
        "               optimizer = 'adam',\n",
        "               metrics = ['accuracy'])"
      ]
    },
    {
      "cell_type": "code",
      "execution_count": 25,
      "metadata": {
        "colab": {
          "base_uri": "https://localhost:8080/"
        },
        "id": "_hmkIlBXWyK_",
        "outputId": "3f282383-aff1-4843-da18-a0813d0134d4"
      },
      "outputs": [
        {
          "name": "stdout",
          "output_type": "stream",
          "text": [
            "Epoch 1/20\n",
            "51/51 [==============================] - 300s 6s/step - loss: 0.8716 - accuracy: 0.6881 - val_loss: 0.3704 - val_accuracy: 0.8439\n",
            "Epoch 2/20\n",
            "51/51 [==============================] - 301s 6s/step - loss: 0.3048 - accuracy: 0.8762 - val_loss: 0.2198 - val_accuracy: 0.9248\n",
            "Epoch 3/20\n",
            "37/51 [====================>.........] - ETA: 42s - loss: 0.2130 - accuracy: 0.9189"
          ]
        },
        {
          "ename": "KeyboardInterrupt",
          "evalue": "",
          "output_type": "error",
          "traceback": [
            "\u001b[1;31m---------------------------------------------------------------------------\u001b[0m",
            "\u001b[1;31mKeyboardInterrupt\u001b[0m                         Traceback (most recent call last)",
            "\u001b[1;32m~\\AppData\\Local\\Temp/ipykernel_13316/370858009.py\u001b[0m in \u001b[0;36m<module>\u001b[1;34m\u001b[0m\n\u001b[0;32m      2\u001b[0m     \u001b[0mgenerator\u001b[0m \u001b[1;33m=\u001b[0m \u001b[0mtrain_generator\u001b[0m\u001b[1;33m,\u001b[0m\u001b[1;33m\u001b[0m\u001b[1;33m\u001b[0m\u001b[0m\n\u001b[0;32m      3\u001b[0m     \u001b[0mepochs\u001b[0m \u001b[1;33m=\u001b[0m \u001b[1;36m20\u001b[0m\u001b[1;33m,\u001b[0m\u001b[1;33m\u001b[0m\u001b[1;33m\u001b[0m\u001b[0m\n\u001b[1;32m----> 4\u001b[1;33m     \u001b[0mvalidation_data\u001b[0m \u001b[1;33m=\u001b[0m \u001b[0mval_generator\u001b[0m\u001b[1;33m\u001b[0m\u001b[1;33m\u001b[0m\u001b[0m\n\u001b[0m\u001b[0;32m      5\u001b[0m )\n",
            "\u001b[1;32m~\\AppData\\Local\\Programs\\Python\\Python37\\lib\\site-packages\\keras\\engine\\training.py\u001b[0m in \u001b[0;36mfit_generator\u001b[1;34m(self, generator, steps_per_epoch, epochs, verbose, callbacks, validation_data, validation_steps, validation_freq, class_weight, max_queue_size, workers, use_multiprocessing, shuffle, initial_epoch)\u001b[0m\n\u001b[0;32m   1987\u001b[0m         \u001b[0muse_multiprocessing\u001b[0m\u001b[1;33m=\u001b[0m\u001b[0muse_multiprocessing\u001b[0m\u001b[1;33m,\u001b[0m\u001b[1;33m\u001b[0m\u001b[1;33m\u001b[0m\u001b[0m\n\u001b[0;32m   1988\u001b[0m         \u001b[0mshuffle\u001b[0m\u001b[1;33m=\u001b[0m\u001b[0mshuffle\u001b[0m\u001b[1;33m,\u001b[0m\u001b[1;33m\u001b[0m\u001b[1;33m\u001b[0m\u001b[0m\n\u001b[1;32m-> 1989\u001b[1;33m         initial_epoch=initial_epoch)\n\u001b[0m\u001b[0;32m   1990\u001b[0m \u001b[1;33m\u001b[0m\u001b[0m\n\u001b[0;32m   1991\u001b[0m   \u001b[1;33m@\u001b[0m\u001b[0mdoc_controls\u001b[0m\u001b[1;33m.\u001b[0m\u001b[0mdo_not_generate_docs\u001b[0m\u001b[1;33m\u001b[0m\u001b[1;33m\u001b[0m\u001b[0m\n",
            "\u001b[1;32m~\\AppData\\Local\\Programs\\Python\\Python37\\lib\\site-packages\\keras\\engine\\training.py\u001b[0m in \u001b[0;36mfit\u001b[1;34m(self, x, y, batch_size, epochs, verbose, callbacks, validation_split, validation_data, shuffle, class_weight, sample_weight, initial_epoch, steps_per_epoch, validation_steps, validation_batch_size, validation_freq, max_queue_size, workers, use_multiprocessing)\u001b[0m\n\u001b[0;32m   1182\u001b[0m                 _r=1):\n\u001b[0;32m   1183\u001b[0m               \u001b[0mcallbacks\u001b[0m\u001b[1;33m.\u001b[0m\u001b[0mon_train_batch_begin\u001b[0m\u001b[1;33m(\u001b[0m\u001b[0mstep\u001b[0m\u001b[1;33m)\u001b[0m\u001b[1;33m\u001b[0m\u001b[1;33m\u001b[0m\u001b[0m\n\u001b[1;32m-> 1184\u001b[1;33m               \u001b[0mtmp_logs\u001b[0m \u001b[1;33m=\u001b[0m \u001b[0mself\u001b[0m\u001b[1;33m.\u001b[0m\u001b[0mtrain_function\u001b[0m\u001b[1;33m(\u001b[0m\u001b[0miterator\u001b[0m\u001b[1;33m)\u001b[0m\u001b[1;33m\u001b[0m\u001b[1;33m\u001b[0m\u001b[0m\n\u001b[0m\u001b[0;32m   1185\u001b[0m               \u001b[1;32mif\u001b[0m \u001b[0mdata_handler\u001b[0m\u001b[1;33m.\u001b[0m\u001b[0mshould_sync\u001b[0m\u001b[1;33m:\u001b[0m\u001b[1;33m\u001b[0m\u001b[1;33m\u001b[0m\u001b[0m\n\u001b[0;32m   1186\u001b[0m                 \u001b[0mcontext\u001b[0m\u001b[1;33m.\u001b[0m\u001b[0masync_wait\u001b[0m\u001b[1;33m(\u001b[0m\u001b[1;33m)\u001b[0m\u001b[1;33m\u001b[0m\u001b[1;33m\u001b[0m\u001b[0m\n",
            "\u001b[1;32m~\\AppData\\Local\\Programs\\Python\\Python37\\lib\\site-packages\\tensorflow\\python\\eager\\def_function.py\u001b[0m in \u001b[0;36m__call__\u001b[1;34m(self, *args, **kwds)\u001b[0m\n\u001b[0;32m    883\u001b[0m \u001b[1;33m\u001b[0m\u001b[0m\n\u001b[0;32m    884\u001b[0m       \u001b[1;32mwith\u001b[0m \u001b[0mOptionalXlaContext\u001b[0m\u001b[1;33m(\u001b[0m\u001b[0mself\u001b[0m\u001b[1;33m.\u001b[0m\u001b[0m_jit_compile\u001b[0m\u001b[1;33m)\u001b[0m\u001b[1;33m:\u001b[0m\u001b[1;33m\u001b[0m\u001b[1;33m\u001b[0m\u001b[0m\n\u001b[1;32m--> 885\u001b[1;33m         \u001b[0mresult\u001b[0m \u001b[1;33m=\u001b[0m \u001b[0mself\u001b[0m\u001b[1;33m.\u001b[0m\u001b[0m_call\u001b[0m\u001b[1;33m(\u001b[0m\u001b[1;33m*\u001b[0m\u001b[0margs\u001b[0m\u001b[1;33m,\u001b[0m \u001b[1;33m**\u001b[0m\u001b[0mkwds\u001b[0m\u001b[1;33m)\u001b[0m\u001b[1;33m\u001b[0m\u001b[1;33m\u001b[0m\u001b[0m\n\u001b[0m\u001b[0;32m    886\u001b[0m \u001b[1;33m\u001b[0m\u001b[0m\n\u001b[0;32m    887\u001b[0m       \u001b[0mnew_tracing_count\u001b[0m \u001b[1;33m=\u001b[0m \u001b[0mself\u001b[0m\u001b[1;33m.\u001b[0m\u001b[0mexperimental_get_tracing_count\u001b[0m\u001b[1;33m(\u001b[0m\u001b[1;33m)\u001b[0m\u001b[1;33m\u001b[0m\u001b[1;33m\u001b[0m\u001b[0m\n",
            "\u001b[1;32m~\\AppData\\Local\\Programs\\Python\\Python37\\lib\\site-packages\\tensorflow\\python\\eager\\def_function.py\u001b[0m in \u001b[0;36m_call\u001b[1;34m(self, *args, **kwds)\u001b[0m\n\u001b[0;32m    915\u001b[0m       \u001b[1;31m# In this case we have created variables on the first call, so we run the\u001b[0m\u001b[1;33m\u001b[0m\u001b[1;33m\u001b[0m\u001b[1;33m\u001b[0m\u001b[0m\n\u001b[0;32m    916\u001b[0m       \u001b[1;31m# defunned version which is guaranteed to never create variables.\u001b[0m\u001b[1;33m\u001b[0m\u001b[1;33m\u001b[0m\u001b[1;33m\u001b[0m\u001b[0m\n\u001b[1;32m--> 917\u001b[1;33m       \u001b[1;32mreturn\u001b[0m \u001b[0mself\u001b[0m\u001b[1;33m.\u001b[0m\u001b[0m_stateless_fn\u001b[0m\u001b[1;33m(\u001b[0m\u001b[1;33m*\u001b[0m\u001b[0margs\u001b[0m\u001b[1;33m,\u001b[0m \u001b[1;33m**\u001b[0m\u001b[0mkwds\u001b[0m\u001b[1;33m)\u001b[0m  \u001b[1;31m# pylint: disable=not-callable\u001b[0m\u001b[1;33m\u001b[0m\u001b[1;33m\u001b[0m\u001b[0m\n\u001b[0m\u001b[0;32m    918\u001b[0m     \u001b[1;32melif\u001b[0m \u001b[0mself\u001b[0m\u001b[1;33m.\u001b[0m\u001b[0m_stateful_fn\u001b[0m \u001b[1;32mis\u001b[0m \u001b[1;32mnot\u001b[0m \u001b[1;32mNone\u001b[0m\u001b[1;33m:\u001b[0m\u001b[1;33m\u001b[0m\u001b[1;33m\u001b[0m\u001b[0m\n\u001b[0;32m    919\u001b[0m       \u001b[1;31m# Release the lock early so that multiple threads can perform the call\u001b[0m\u001b[1;33m\u001b[0m\u001b[1;33m\u001b[0m\u001b[1;33m\u001b[0m\u001b[0m\n",
            "\u001b[1;32m~\\AppData\\Local\\Programs\\Python\\Python37\\lib\\site-packages\\tensorflow\\python\\eager\\function.py\u001b[0m in \u001b[0;36m__call__\u001b[1;34m(self, *args, **kwargs)\u001b[0m\n\u001b[0;32m   3038\u001b[0m        filtered_flat_args) = self._maybe_define_function(args, kwargs)\n\u001b[0;32m   3039\u001b[0m     return graph_function._call_flat(\n\u001b[1;32m-> 3040\u001b[1;33m         filtered_flat_args, captured_inputs=graph_function.captured_inputs)  # pylint: disable=protected-access\n\u001b[0m\u001b[0;32m   3041\u001b[0m \u001b[1;33m\u001b[0m\u001b[0m\n\u001b[0;32m   3042\u001b[0m   \u001b[1;33m@\u001b[0m\u001b[0mproperty\u001b[0m\u001b[1;33m\u001b[0m\u001b[1;33m\u001b[0m\u001b[0m\n",
            "\u001b[1;32m~\\AppData\\Local\\Programs\\Python\\Python37\\lib\\site-packages\\tensorflow\\python\\eager\\function.py\u001b[0m in \u001b[0;36m_call_flat\u001b[1;34m(self, args, captured_inputs, cancellation_manager)\u001b[0m\n\u001b[0;32m   1962\u001b[0m       \u001b[1;31m# No tape is watching; skip to running the function.\u001b[0m\u001b[1;33m\u001b[0m\u001b[1;33m\u001b[0m\u001b[1;33m\u001b[0m\u001b[0m\n\u001b[0;32m   1963\u001b[0m       return self._build_call_outputs(self._inference_function.call(\n\u001b[1;32m-> 1964\u001b[1;33m           ctx, args, cancellation_manager=cancellation_manager))\n\u001b[0m\u001b[0;32m   1965\u001b[0m     forward_backward = self._select_forward_and_backward_functions(\n\u001b[0;32m   1966\u001b[0m         \u001b[0margs\u001b[0m\u001b[1;33m,\u001b[0m\u001b[1;33m\u001b[0m\u001b[1;33m\u001b[0m\u001b[0m\n",
            "\u001b[1;32m~\\AppData\\Local\\Programs\\Python\\Python37\\lib\\site-packages\\tensorflow\\python\\eager\\function.py\u001b[0m in \u001b[0;36mcall\u001b[1;34m(self, ctx, args, cancellation_manager)\u001b[0m\n\u001b[0;32m    594\u001b[0m               \u001b[0minputs\u001b[0m\u001b[1;33m=\u001b[0m\u001b[0margs\u001b[0m\u001b[1;33m,\u001b[0m\u001b[1;33m\u001b[0m\u001b[1;33m\u001b[0m\u001b[0m\n\u001b[0;32m    595\u001b[0m               \u001b[0mattrs\u001b[0m\u001b[1;33m=\u001b[0m\u001b[0mattrs\u001b[0m\u001b[1;33m,\u001b[0m\u001b[1;33m\u001b[0m\u001b[1;33m\u001b[0m\u001b[0m\n\u001b[1;32m--> 596\u001b[1;33m               ctx=ctx)\n\u001b[0m\u001b[0;32m    597\u001b[0m         \u001b[1;32melse\u001b[0m\u001b[1;33m:\u001b[0m\u001b[1;33m\u001b[0m\u001b[1;33m\u001b[0m\u001b[0m\n\u001b[0;32m    598\u001b[0m           outputs = execute.execute_with_cancellation(\n",
            "\u001b[1;32m~\\AppData\\Local\\Programs\\Python\\Python37\\lib\\site-packages\\tensorflow\\python\\eager\\execute.py\u001b[0m in \u001b[0;36mquick_execute\u001b[1;34m(op_name, num_outputs, inputs, attrs, ctx, name)\u001b[0m\n\u001b[0;32m     58\u001b[0m     \u001b[0mctx\u001b[0m\u001b[1;33m.\u001b[0m\u001b[0mensure_initialized\u001b[0m\u001b[1;33m(\u001b[0m\u001b[1;33m)\u001b[0m\u001b[1;33m\u001b[0m\u001b[1;33m\u001b[0m\u001b[0m\n\u001b[0;32m     59\u001b[0m     tensors = pywrap_tfe.TFE_Py_Execute(ctx._handle, device_name, op_name,\n\u001b[1;32m---> 60\u001b[1;33m                                         inputs, attrs, num_outputs)\n\u001b[0m\u001b[0;32m     61\u001b[0m   \u001b[1;32mexcept\u001b[0m \u001b[0mcore\u001b[0m\u001b[1;33m.\u001b[0m\u001b[0m_NotOkStatusException\u001b[0m \u001b[1;32mas\u001b[0m \u001b[0me\u001b[0m\u001b[1;33m:\u001b[0m\u001b[1;33m\u001b[0m\u001b[1;33m\u001b[0m\u001b[0m\n\u001b[0;32m     62\u001b[0m     \u001b[1;32mif\u001b[0m \u001b[0mname\u001b[0m \u001b[1;32mis\u001b[0m \u001b[1;32mnot\u001b[0m \u001b[1;32mNone\u001b[0m\u001b[1;33m:\u001b[0m\u001b[1;33m\u001b[0m\u001b[1;33m\u001b[0m\u001b[0m\n",
            "\u001b[1;31mKeyboardInterrupt\u001b[0m: "
          ]
        }
      ],
      "source": [
        "model2.fit_generator(\n",
        "    generator = train_generator,\n",
        "    epochs = 20,\n",
        "    validation_data = val_generator\n",
        ")"
      ]
    },
    {
      "cell_type": "code",
      "execution_count": null,
      "metadata": {
        "colab": {
          "base_uri": "https://localhost:8080/"
        },
        "id": "QVCOI8ezfnCJ",
        "outputId": "45fa732b-c7c5-486a-c658-e7c88e837cc0"
      },
      "outputs": [
        {
          "name": "stdout",
          "output_type": "stream",
          "text": [
            "Model: \"sequential_1\"\n",
            "_________________________________________________________________\n",
            "Layer (type)                 Output Shape              Param #   \n",
            "=================================================================\n",
            "vgg16 (Functional)           (None, 4, 4, 512)         14714688  \n",
            "_________________________________________________________________\n",
            "flatten (Flatten)            (None, 8192)              0         \n",
            "_________________________________________________________________\n",
            "dense (Dense)                (None, 512)               4194816   \n",
            "_________________________________________________________________\n",
            "dense_1 (Dense)              (None, 1)                 513       \n",
            "=================================================================\n",
            "Total params: 18,910,017\n",
            "Trainable params: 18,910,017\n",
            "Non-trainable params: 0\n",
            "_________________________________________________________________\n"
          ]
        }
      ],
      "source": [
        "# 미세조정\n",
        "from tensorflow.keras.models import Sequential\n",
        "from tensorflow.keras.layers import Dense, Conv2D, MaxPool2D, Flatten, Dropout\n",
        "model3 = Sequential()\n",
        "\n",
        "# 설계할 모델에 VGG16끼워넣기\n",
        "\n",
        "model3.add(conv_base)\n",
        "\n",
        "model3.add(Flatten())\n",
        "\n",
        "model3.add(Dense(units = 512 ,activation = 'relu'))\n",
        "model3.add(Dense(units = 1 ,activation = 'sigmoid'))\n",
        "\n",
        "model3.summary()"
      ]
    },
    {
      "cell_type": "code",
      "execution_count": null,
      "metadata": {
        "colab": {
          "base_uri": "https://localhost:8080/"
        },
        "id": "Ee2YceQMgUAa",
        "outputId": "cfc74e8c-7ce7-4100-9977-9e3b2711c7c3"
      },
      "outputs": [
        {
          "name": "stdout",
          "output_type": "stream",
          "text": [
            "Model: \"vgg16\"\n",
            "_________________________________________________________________\n",
            "Layer (type)                 Output Shape              Param #   \n",
            "=================================================================\n",
            "input_1 (InputLayer)         [(None, 150, 150, 3)]     0         \n",
            "_________________________________________________________________\n",
            "block1_conv1 (Conv2D)        (None, 150, 150, 64)      1792      \n",
            "_________________________________________________________________\n",
            "block1_conv2 (Conv2D)        (None, 150, 150, 64)      36928     \n",
            "_________________________________________________________________\n",
            "block1_pool (MaxPooling2D)   (None, 75, 75, 64)        0         \n",
            "_________________________________________________________________\n",
            "block2_conv1 (Conv2D)        (None, 75, 75, 128)       73856     \n",
            "_________________________________________________________________\n",
            "block2_conv2 (Conv2D)        (None, 75, 75, 128)       147584    \n",
            "_________________________________________________________________\n",
            "block2_pool (MaxPooling2D)   (None, 37, 37, 128)       0         \n",
            "_________________________________________________________________\n",
            "block3_conv1 (Conv2D)        (None, 37, 37, 256)       295168    \n",
            "_________________________________________________________________\n",
            "block3_conv2 (Conv2D)        (None, 37, 37, 256)       590080    \n",
            "_________________________________________________________________\n",
            "block3_conv3 (Conv2D)        (None, 37, 37, 256)       590080    \n",
            "_________________________________________________________________\n",
            "block3_pool (MaxPooling2D)   (None, 18, 18, 256)       0         \n",
            "_________________________________________________________________\n",
            "block4_conv1 (Conv2D)        (None, 18, 18, 512)       1180160   \n",
            "_________________________________________________________________\n",
            "block4_conv2 (Conv2D)        (None, 18, 18, 512)       2359808   \n",
            "_________________________________________________________________\n",
            "block4_conv3 (Conv2D)        (None, 18, 18, 512)       2359808   \n",
            "_________________________________________________________________\n",
            "block4_pool (MaxPooling2D)   (None, 9, 9, 512)         0         \n",
            "_________________________________________________________________\n",
            "block5_conv1 (Conv2D)        (None, 9, 9, 512)         2359808   \n",
            "_________________________________________________________________\n",
            "block5_conv2 (Conv2D)        (None, 9, 9, 512)         2359808   \n",
            "_________________________________________________________________\n",
            "block5_conv3 (Conv2D)        (None, 9, 9, 512)         2359808   \n",
            "_________________________________________________________________\n",
            "block5_pool (MaxPooling2D)   (None, 4, 4, 512)         0         \n",
            "=================================================================\n",
            "Total params: 14,714,688\n",
            "Trainable params: 14,714,688\n",
            "Non-trainable params: 0\n",
            "_________________________________________________________________\n"
          ]
        }
      ],
      "source": [
        "conv_base.summary()"
      ]
    },
    {
      "cell_type": "code",
      "execution_count": null,
      "metadata": {
        "id": "IIfsbNFPgEhq"
      },
      "outputs": [],
      "source": [
        "# block5_conv1 ~ 3 층을 학습 시켜보자\n",
        "conv_base.trainable = False\n",
        "\n",
        "# VGG 신경망 한층(block5_conv3)를 가져와서 학습하게 만들어보자\n",
        "\n",
        "set_trainable = False"
      ]
    },
    {
      "cell_type": "code",
      "execution_count": null,
      "metadata": {
        "id": "lSPtfQ4uhCha"
      },
      "outputs": [],
      "source": [
        "for layer in conv_base.layers:\n",
        "  # 가져온 층의 이름이 block5_conv1이라면\n",
        "  # block5_conv1 하위의 층들을 학습을 하도록 동결을 풀어준다\n",
        "  if layer.name == 'block4_conv2':\n",
        "    set_trainable = True\n",
        "  \n",
        "  if set_trainable == True:\n",
        "    layer.trainable = True\n",
        "  else :\n",
        "    layer.trainable = False"
      ]
    },
    {
      "cell_type": "code",
      "execution_count": null,
      "metadata": {
        "id": "DIqAAK-ii8hz"
      },
      "outputs": [],
      "source": [
        "model3.compile(loss = 'binary_crossentropy',\n",
        "               optimizer = 'adam',\n",
        "               metrics = ['accuracy'])"
      ]
    },
    {
      "cell_type": "code",
      "execution_count": null,
      "metadata": {
        "colab": {
          "base_uri": "https://localhost:8080/"
        },
        "id": "zzxgYj9Di-nM",
        "outputId": "c857b519-34f4-4227-8574-b12883ee77c1"
      },
      "outputs": [
        {
          "name": "stderr",
          "output_type": "stream",
          "text": [
            "/usr/local/lib/python3.7/dist-packages/keras/engine/training.py:1972: UserWarning: `Model.fit_generator` is deprecated and will be removed in a future version. Please use `Model.fit`, which supports generators.\n",
            "  warnings.warn('`Model.fit_generator` is deprecated and '\n"
          ]
        },
        {
          "name": "stdout",
          "output_type": "stream",
          "text": [
            "Epoch 1/20\n",
            "20/20 [==============================] - 18s 881ms/step - loss: 0.0030 - accuracy: 1.0000 - val_loss: 0.3663 - val_accuracy: 0.9050\n",
            "Epoch 2/20\n",
            "20/20 [==============================] - 17s 858ms/step - loss: 0.0024 - accuracy: 1.0000 - val_loss: 0.3556 - val_accuracy: 0.9100\n",
            "Epoch 3/20\n",
            "20/20 [==============================] - 17s 856ms/step - loss: 0.0021 - accuracy: 1.0000 - val_loss: 0.3697 - val_accuracy: 0.9060\n",
            "Epoch 4/20\n",
            "20/20 [==============================] - 17s 854ms/step - loss: 0.0019 - accuracy: 1.0000 - val_loss: 0.3680 - val_accuracy: 0.9060\n",
            "Epoch 5/20\n",
            "20/20 [==============================] - 17s 849ms/step - loss: 0.0016 - accuracy: 1.0000 - val_loss: 0.3695 - val_accuracy: 0.9090\n",
            "Epoch 6/20\n",
            "20/20 [==============================] - 17s 850ms/step - loss: 0.0015 - accuracy: 1.0000 - val_loss: 0.3763 - val_accuracy: 0.9090\n",
            "Epoch 7/20\n",
            "20/20 [==============================] - 17s 861ms/step - loss: 0.0013 - accuracy: 1.0000 - val_loss: 0.3894 - val_accuracy: 0.9060\n",
            "Epoch 8/20\n",
            "20/20 [==============================] - 17s 846ms/step - loss: 0.0012 - accuracy: 1.0000 - val_loss: 0.3945 - val_accuracy: 0.9050\n",
            "Epoch 9/20\n",
            "20/20 [==============================] - 17s 854ms/step - loss: 0.0011 - accuracy: 1.0000 - val_loss: 0.3889 - val_accuracy: 0.9060\n",
            "Epoch 10/20\n",
            "20/20 [==============================] - 17s 852ms/step - loss: 9.6327e-04 - accuracy: 1.0000 - val_loss: 0.4002 - val_accuracy: 0.9060\n",
            "Epoch 11/20\n",
            "20/20 [==============================] - 17s 857ms/step - loss: 8.4314e-04 - accuracy: 1.0000 - val_loss: 0.3961 - val_accuracy: 0.9100\n",
            "Epoch 12/20\n",
            "20/20 [==============================] - 17s 853ms/step - loss: 7.7113e-04 - accuracy: 1.0000 - val_loss: 0.4039 - val_accuracy: 0.9090\n",
            "Epoch 13/20\n",
            "20/20 [==============================] - 17s 849ms/step - loss: 6.8968e-04 - accuracy: 1.0000 - val_loss: 0.4137 - val_accuracy: 0.9060\n",
            "Epoch 14/20\n",
            "20/20 [==============================] - 17s 856ms/step - loss: 6.4549e-04 - accuracy: 1.0000 - val_loss: 0.4153 - val_accuracy: 0.9060\n",
            "Epoch 15/20\n",
            "20/20 [==============================] - 17s 846ms/step - loss: 5.6591e-04 - accuracy: 1.0000 - val_loss: 0.4143 - val_accuracy: 0.9070\n",
            "Epoch 16/20\n",
            "20/20 [==============================] - 17s 851ms/step - loss: 5.2308e-04 - accuracy: 1.0000 - val_loss: 0.4294 - val_accuracy: 0.9060\n",
            "Epoch 17/20\n",
            "20/20 [==============================] - 17s 853ms/step - loss: 4.6992e-04 - accuracy: 1.0000 - val_loss: 0.4330 - val_accuracy: 0.9050\n",
            "Epoch 18/20\n",
            "20/20 [==============================] - 17s 852ms/step - loss: 4.1975e-04 - accuracy: 1.0000 - val_loss: 0.4352 - val_accuracy: 0.9070\n",
            "Epoch 19/20\n",
            "20/20 [==============================] - 17s 846ms/step - loss: 3.8222e-04 - accuracy: 1.0000 - val_loss: 0.4394 - val_accuracy: 0.9060\n",
            "Epoch 20/20\n",
            "20/20 [==============================] - 17s 842ms/step - loss: 3.4498e-04 - accuracy: 1.0000 - val_loss: 0.4421 - val_accuracy: 0.9070\n"
          ]
        },
        {
          "data": {
            "text/plain": [
              "<keras.callbacks.History at 0x7f1fd1ae4550>"
            ]
          },
          "execution_count": 22,
          "metadata": {},
          "output_type": "execute_result"
        }
      ],
      "source": [
        "model3.fit_generator(\n",
        "    generator = train_generator,\n",
        "    epochs = 20,\n",
        "    validation_data = val_generator\n",
        ")"
      ]
    },
    {
      "cell_type": "code",
      "execution_count": null,
      "metadata": {
        "id": "TOe7ooadjATj"
      },
      "outputs": [],
      "source": []
    }
  ],
  "metadata": {
    "accelerator": "GPU",
    "colab": {
      "collapsed_sections": [],
      "name": "ex05개고양이분류.ipynb",
      "provenance": []
    },
    "interpreter": {
      "hash": "b55d97c5ceb30a938e3a6a7089238ad1b46f9b249c3392093011d69d2440d11b"
    },
    "kernelspec": {
      "display_name": "Python 3.7.9 64-bit",
      "name": "python3"
    },
    "language_info": {
      "codemirror_mode": {
        "name": "ipython",
        "version": 3
      },
      "file_extension": ".py",
      "mimetype": "text/x-python",
      "name": "python",
      "nbconvert_exporter": "python",
      "pygments_lexer": "ipython3",
      "version": "3.7.9"
    }
  },
  "nbformat": 4,
  "nbformat_minor": 0
}
