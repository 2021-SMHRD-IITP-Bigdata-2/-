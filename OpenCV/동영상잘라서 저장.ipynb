{
 "cells": [
  {
   "cell_type": "code",
   "execution_count": 1,
   "metadata": {},
   "outputs": [
    {
     "name": "stdout",
     "output_type": "stream",
     "text": [
      "Collecting imutils\n",
      "  Using cached imutils-0.5.4.tar.gz (17 kB)\n",
      "Using legacy 'setup.py install' for imutils, since package 'wheel' is not installed.\n",
      "Installing collected packages: imutils\n",
      "    Running setup.py install for imutils: started\n",
      "    Running setup.py install for imutils: finished with status 'done'\n",
      "Successfully installed imutils-0.5.4\n"
     ]
    },
    {
     "name": "stderr",
     "output_type": "stream",
     "text": [
      "WARNING: You are using pip version 21.2.3; however, version 21.3 is available.\n",
      "You should consider upgrading via the 'C:\\Users\\USER\\AppData\\Local\\Programs\\Python\\Python39\\python.exe -m pip install --upgrade pip' command.\n"
     ]
    }
   ],
   "source": [
    "!pip install imutils"
   ]
  },
  {
   "cell_type": "code",
   "execution_count": 3,
   "metadata": {},
   "outputs": [
    {
     "name": "stdout",
     "output_type": "stream",
     "text": [
      "[video 시작]\n"
     ]
    }
   ],
   "source": [
    "# 필요한 패키지 import\n",
    "import imutils # 파이썬 OpenCV가 제공하는 기능 중 복잡하고 사용성이 떨어지는 부분을 보완(이미지 또는 비디오 스트림 파일 처리 등)\n",
    "import cv2 # opencv 모듈\n",
    "\n",
    "# 비디오 파일\n",
    "video = \"data/Flight_Record1.mp4\" # \"\" 일 경우 webcam 사용\n",
    "\n",
    "# 저장할 비디오 파일 경로 및 이름\n",
    "result_path = \"data/result_video.avi\"\n",
    "\n",
    "# 비디오 경로가 제공되지 않은 경우 webcam 사용\n",
    "if video == \"\":\n",
    "    print(\"[webcam 시작]\")\n",
    "    vs = cv2.VideoCapture(0)\n",
    "\n",
    "# 비디오 경로가 제공된 경우 video 사용\n",
    "else:\n",
    "    print(\"[video 시작]\")\n",
    "    vs = cv2.VideoCapture(video)\n",
    "\n",
    "# 비디오 저장 변수\n",
    "writer = None\n",
    "\n",
    "# 비디오 스트림 프레임 반복\n",
    "while True:\n",
    "    # 프레임 읽기\n",
    "    ret, frame = vs.read()\n",
    "\n",
    "    # 읽은 프레임이 없는 경우 종료\n",
    "    if frame is None:\n",
    "        break\n",
    "\n",
    "    # 프레임 resize\n",
    "    frame = imutils.resize(frame, width=1000)\n",
    "\n",
    "    # 프레임 출력\n",
    "    cv2.imshow(\"frame\", frame)\n",
    "    \n",
    "    # 'q' 키를 입력하면 종료\n",
    "    key = cv2.waitKey(1) & 0xFF\n",
    "    if key == ord(\"q\"):\n",
    "        break\n",
    "                                    \n",
    "    # 저장할 비디오 설정\n",
    "    if writer is None:\n",
    "        fourcc = cv2.VideoWriter_fourcc(*\"MJPG\")\n",
    "        writer = cv2.VideoWriter(result_path, fourcc, 50, (frame.shape[1], frame.shape[0]), True)\n",
    "\n",
    "    # 비디오 저장\n",
    "    if writer is not None:\n",
    "        writer.write(frame)\n",
    "\n",
    "# 종료\n",
    "vs.release()\n",
    "cv2.destroyAllWindows()"
   ]
  }
 ],
 "metadata": {
  "interpreter": {
   "hash": "23300995598eec4bcf6bd89cf02d1c3675e8b2616661418dbbf5580aa901878d"
  },
  "kernelspec": {
   "display_name": "Python 3.9.7 64-bit",
   "name": "python3"
  },
  "language_info": {
   "codemirror_mode": {
    "name": "ipython",
    "version": 3
   },
   "file_extension": ".py",
   "mimetype": "text/x-python",
   "name": "python",
   "nbconvert_exporter": "python",
   "pygments_lexer": "ipython3",
   "version": "3.9.7"
  },
  "orig_nbformat": 4
 },
 "nbformat": 4,
 "nbformat_minor": 2
}
